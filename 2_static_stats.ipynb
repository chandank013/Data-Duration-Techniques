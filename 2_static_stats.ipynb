{
 "cells": [
  {
   "cell_type": "markdown",
   "id": "9a4fd7b4-09f5-48ea-9658-3e2c46e25c3e",
   "metadata": {},
   "source": [
    "01 Dataset Preparation: The dataset should have mix of different kind of data and at least one numerical and one categorical data"
   ]
  },
  {
   "cell_type": "code",
   "execution_count": 22,
   "id": "161d580b-2080-46f3-93e1-c44ed3e75578",
   "metadata": {},
   "outputs": [
    {
     "data": {
      "text/html": [
       "<div>\n",
       "<style scoped>\n",
       "    .dataframe tbody tr th:only-of-type {\n",
       "        vertical-align: middle;\n",
       "    }\n",
       "\n",
       "    .dataframe tbody tr th {\n",
       "        vertical-align: top;\n",
       "    }\n",
       "\n",
       "    .dataframe thead th {\n",
       "        text-align: right;\n",
       "    }\n",
       "</style>\n",
       "<table border=\"1\" class=\"dataframe\">\n",
       "  <thead>\n",
       "    <tr style=\"text-align: right;\">\n",
       "      <th></th>\n",
       "      <th>Unnamed: 0</th>\n",
       "      <th>SR. NO.</th>\n",
       "      <th>TEAM</th>\n",
       "      <th>FUNDS REMAINING</th>\n",
       "      <th>OVERSEAS PLAYERS</th>\n",
       "      <th>TOTAL PLAYERS</th>\n",
       "    </tr>\n",
       "  </thead>\n",
       "  <tbody>\n",
       "    <tr>\n",
       "      <th>0</th>\n",
       "      <td>0</td>\n",
       "      <td>NaN</td>\n",
       "      <td>Chennai Super King</td>\n",
       "      <td>29500000</td>\n",
       "      <td>8</td>\n",
       "      <td>25</td>\n",
       "    </tr>\n",
       "    <tr>\n",
       "      <th>1</th>\n",
       "      <td>1</td>\n",
       "      <td>NaN</td>\n",
       "      <td>Delhi Capitals</td>\n",
       "      <td>1000000</td>\n",
       "      <td>7</td>\n",
       "      <td>24</td>\n",
       "    </tr>\n",
       "    <tr>\n",
       "      <th>2</th>\n",
       "      <td>2</td>\n",
       "      <td>NaN</td>\n",
       "      <td>Gujrat Titans</td>\n",
       "      <td>1500000</td>\n",
       "      <td>8</td>\n",
       "      <td>23</td>\n",
       "    </tr>\n",
       "    <tr>\n",
       "      <th>3</th>\n",
       "      <td>3</td>\n",
       "      <td>NaN</td>\n",
       "      <td>Kolkata Knight Riders</td>\n",
       "      <td>4500000</td>\n",
       "      <td>8</td>\n",
       "      <td>25</td>\n",
       "    </tr>\n",
       "    <tr>\n",
       "      <th>4</th>\n",
       "      <td>4</td>\n",
       "      <td>NaN</td>\n",
       "      <td>Lucknow Super Gaints</td>\n",
       "      <td>0</td>\n",
       "      <td>7</td>\n",
       "      <td>21</td>\n",
       "    </tr>\n",
       "  </tbody>\n",
       "</table>\n",
       "</div>"
      ],
      "text/plain": [
       "   Unnamed: 0  SR. NO.                   TEAM  FUNDS REMAINING  \\\n",
       "0           0      NaN     Chennai Super King         29500000   \n",
       "1           1      NaN         Delhi Capitals          1000000   \n",
       "2           2      NaN          Gujrat Titans          1500000   \n",
       "3           3      NaN  Kolkata Knight Riders          4500000   \n",
       "4           4      NaN   Lucknow Super Gaints                0   \n",
       "\n",
       "   OVERSEAS PLAYERS   TOTAL PLAYERS  \n",
       "0                  8             25  \n",
       "1                  7             24  \n",
       "2                  8             23  \n",
       "3                  8             25  \n",
       "4                  7             21  "
      ]
     },
     "execution_count": 22,
     "metadata": {},
     "output_type": "execute_result"
    }
   ],
   "source": [
    "import pandas as pd\n",
    "import numpy as np\n",
    "from scipy.spatial.distance import euclidean, cityblock, minkowski, chebyshev\n",
    "\n",
    "auction = pd.read_csv(\"C:/Users/Arjun/JN/ipl auction stats__static.csv\")\n",
    "auction.head()"
   ]
  },
  {
   "cell_type": "markdown",
   "id": "b8f6cc0e-a08c-438f-83fb-22fefc9d22eb",
   "metadata": {},
   "source": [
    "02 Compute summary statistics such as mean, median, mode "
   ]
  },
  {
   "cell_type": "code",
   "execution_count": 24,
   "id": "87c53262-04bd-4023-9a43-68e66ef44cc8",
   "metadata": {},
   "outputs": [
    {
     "data": {
      "text/plain": [
       "FUNDS REMAINING    6200000.0\n",
       "TOTAL PLAYERS           23.7\n",
       "dtype: float64"
      ]
     },
     "execution_count": 24,
     "metadata": {},
     "output_type": "execute_result"
    }
   ],
   "source": [
    "#What is the average  of 'TOTAL PLAYER' in the Ipl auction in 2022?\n",
    "auction[[\"FUNDS REMAINING\",\"TOTAL PLAYERS\"]].mean()"
   ]
  },
  {
   "cell_type": "code",
   "execution_count": 25,
   "id": "385b386e-fd88-4b3f-bfd4-7a1ca9843f49",
   "metadata": {},
   "outputs": [
    {
     "data": {
      "text/plain": [
       "FUNDS REMAINING    2500000.0\n",
       "TOTAL PLAYERS           24.0\n",
       "dtype: float64"
      ]
     },
     "execution_count": 25,
     "metadata": {},
     "output_type": "execute_result"
    }
   ],
   "source": [
    "#What is the median of  \"TOTAL PLAYERS\" in the Ipl auction in 2022?\n",
    "auction[[\"FUNDS REMAINING\",\"TOTAL PLAYERS\"]].median()"
   ]
  },
  {
   "cell_type": "code",
   "execution_count": 26,
   "id": "57a1013f-3f1a-4934-8ffb-0209b5d6575e",
   "metadata": {},
   "outputs": [
    {
     "data": {
      "text/html": [
       "<div>\n",
       "<style scoped>\n",
       "    .dataframe tbody tr th:only-of-type {\n",
       "        vertical-align: middle;\n",
       "    }\n",
       "\n",
       "    .dataframe tbody tr th {\n",
       "        vertical-align: top;\n",
       "    }\n",
       "\n",
       "    .dataframe thead th {\n",
       "        text-align: right;\n",
       "    }\n",
       "</style>\n",
       "<table border=\"1\" class=\"dataframe\">\n",
       "  <thead>\n",
       "    <tr style=\"text-align: right;\">\n",
       "      <th></th>\n",
       "      <th>FUNDS REMAINING</th>\n",
       "      <th>TOTAL PLAYERS</th>\n",
       "    </tr>\n",
       "  </thead>\n",
       "  <tbody>\n",
       "    <tr>\n",
       "      <th>count</th>\n",
       "      <td>1.000000e+01</td>\n",
       "      <td>10.000000</td>\n",
       "    </tr>\n",
       "    <tr>\n",
       "      <th>mean</th>\n",
       "      <td>6.200000e+06</td>\n",
       "      <td>23.700000</td>\n",
       "    </tr>\n",
       "    <tr>\n",
       "      <th>std</th>\n",
       "      <td>8.912569e+06</td>\n",
       "      <td>1.418136</td>\n",
       "    </tr>\n",
       "    <tr>\n",
       "      <th>min</th>\n",
       "      <td>0.000000e+00</td>\n",
       "      <td>21.000000</td>\n",
       "    </tr>\n",
       "    <tr>\n",
       "      <th>25%</th>\n",
       "      <td>1.125000e+06</td>\n",
       "      <td>23.000000</td>\n",
       "    </tr>\n",
       "    <tr>\n",
       "      <th>50%</th>\n",
       "      <td>2.500000e+06</td>\n",
       "      <td>24.000000</td>\n",
       "    </tr>\n",
       "    <tr>\n",
       "      <th>75%</th>\n",
       "      <td>8.250000e+06</td>\n",
       "      <td>25.000000</td>\n",
       "    </tr>\n",
       "    <tr>\n",
       "      <th>max</th>\n",
       "      <td>2.950000e+07</td>\n",
       "      <td>25.000000</td>\n",
       "    </tr>\n",
       "  </tbody>\n",
       "</table>\n",
       "</div>"
      ],
      "text/plain": [
       "       FUNDS REMAINING  TOTAL PLAYERS\n",
       "count     1.000000e+01      10.000000\n",
       "mean      6.200000e+06      23.700000\n",
       "std       8.912569e+06       1.418136\n",
       "min       0.000000e+00      21.000000\n",
       "25%       1.125000e+06      23.000000\n",
       "50%       2.500000e+06      24.000000\n",
       "75%       8.250000e+06      25.000000\n",
       "max       2.950000e+07      25.000000"
      ]
     },
     "execution_count": 26,
     "metadata": {},
     "output_type": "execute_result"
    }
   ],
   "source": [
    "auction[[\"FUNDS REMAINING\",\"TOTAL PLAYERS\"]].describe()"
   ]
  },
  {
   "cell_type": "code",
   "execution_count": 27,
   "id": "7b118725-71a8-4b9a-a5b7-4f4127ef6660",
   "metadata": {},
   "outputs": [
    {
     "data": {
      "text/html": [
       "<div>\n",
       "<style scoped>\n",
       "    .dataframe tbody tr th:only-of-type {\n",
       "        vertical-align: middle;\n",
       "    }\n",
       "\n",
       "    .dataframe tbody tr th {\n",
       "        vertical-align: top;\n",
       "    }\n",
       "\n",
       "    .dataframe thead th {\n",
       "        text-align: right;\n",
       "    }\n",
       "</style>\n",
       "<table border=\"1\" class=\"dataframe\">\n",
       "  <thead>\n",
       "    <tr style=\"text-align: right;\">\n",
       "      <th></th>\n",
       "      <th>FUNDS REMAINING</th>\n",
       "      <th>TOTAL PLAYERS</th>\n",
       "    </tr>\n",
       "  </thead>\n",
       "  <tbody>\n",
       "    <tr>\n",
       "      <th>min</th>\n",
       "      <td>0.000000e+00</td>\n",
       "      <td>21.000000</td>\n",
       "    </tr>\n",
       "    <tr>\n",
       "      <th>max</th>\n",
       "      <td>2.950000e+07</td>\n",
       "      <td>25.000000</td>\n",
       "    </tr>\n",
       "    <tr>\n",
       "      <th>median</th>\n",
       "      <td>2.500000e+06</td>\n",
       "      <td>24.000000</td>\n",
       "    </tr>\n",
       "    <tr>\n",
       "      <th>skew</th>\n",
       "      <td>2.352323e+00</td>\n",
       "      <td>-0.800599</td>\n",
       "    </tr>\n",
       "  </tbody>\n",
       "</table>\n",
       "</div>"
      ],
      "text/plain": [
       "        FUNDS REMAINING  TOTAL PLAYERS\n",
       "min        0.000000e+00      21.000000\n",
       "max        2.950000e+07      25.000000\n",
       "median     2.500000e+06      24.000000\n",
       "skew       2.352323e+00      -0.800599"
      ]
     },
     "execution_count": 27,
     "metadata": {},
     "output_type": "execute_result"
    }
   ],
   "source": [
    "auction.agg(\n",
    "    {\n",
    "        \"FUNDS REMAINING\": [\"min\", \"max\", \"median\", \"skew\"],\n",
    "        \"TOTAL PLAYERS\": [\"min\", \"max\", \"median\", \"skew\"],\n",
    "    }\n",
    ")"
   ]
  },
  {
   "cell_type": "code",
   "execution_count": 28,
   "id": "e0e87c63-a826-4427-b72e-37497deac895",
   "metadata": {},
   "outputs": [
    {
     "data": {
      "text/html": [
       "<div>\n",
       "<style scoped>\n",
       "    .dataframe tbody tr th:only-of-type {\n",
       "        vertical-align: middle;\n",
       "    }\n",
       "\n",
       "    .dataframe tbody tr th {\n",
       "        vertical-align: top;\n",
       "    }\n",
       "\n",
       "    .dataframe thead th {\n",
       "        text-align: right;\n",
       "    }\n",
       "</style>\n",
       "<table border=\"1\" class=\"dataframe\">\n",
       "  <thead>\n",
       "    <tr style=\"text-align: right;\">\n",
       "      <th></th>\n",
       "      <th>TOTAL PLAYERS</th>\n",
       "    </tr>\n",
       "    <tr>\n",
       "      <th>TEAM</th>\n",
       "      <th></th>\n",
       "    </tr>\n",
       "  </thead>\n",
       "  <tbody>\n",
       "    <tr>\n",
       "      <th>Chennai Super King</th>\n",
       "      <td>25.0</td>\n",
       "    </tr>\n",
       "    <tr>\n",
       "      <th>Delhi Capitals</th>\n",
       "      <td>24.0</td>\n",
       "    </tr>\n",
       "    <tr>\n",
       "      <th>Gujrat Titans</th>\n",
       "      <td>23.0</td>\n",
       "    </tr>\n",
       "    <tr>\n",
       "      <th>Kolkata Knight Riders</th>\n",
       "      <td>25.0</td>\n",
       "    </tr>\n",
       "    <tr>\n",
       "      <th>Lucknow Super Gaints</th>\n",
       "      <td>21.0</td>\n",
       "    </tr>\n",
       "    <tr>\n",
       "      <th>Mumbai Indians</th>\n",
       "      <td>25.0</td>\n",
       "    </tr>\n",
       "    <tr>\n",
       "      <th>Punjab Kings</th>\n",
       "      <td>25.0</td>\n",
       "    </tr>\n",
       "    <tr>\n",
       "      <th>Rajasthan Royals</th>\n",
       "      <td>24.0</td>\n",
       "    </tr>\n",
       "    <tr>\n",
       "      <th>Royal Challengers Bangloro</th>\n",
       "      <td>22.0</td>\n",
       "    </tr>\n",
       "    <tr>\n",
       "      <th>Sunrisers Hydrabad</th>\n",
       "      <td>23.0</td>\n",
       "    </tr>\n",
       "  </tbody>\n",
       "</table>\n",
       "</div>"
      ],
      "text/plain": [
       "                            TOTAL PLAYERS\n",
       "TEAM                                     \n",
       "Chennai Super King                   25.0\n",
       "Delhi Capitals                       24.0\n",
       "Gujrat Titans                        23.0\n",
       "Kolkata Knight Riders                25.0\n",
       "Lucknow Super Gaints                 21.0\n",
       "Mumbai Indians                       25.0\n",
       "Punjab Kings                         25.0\n",
       "Rajasthan Royals                     24.0\n",
       "Royal Challengers Bangloro           22.0\n",
       "Sunrisers Hydrabad                   23.0"
      ]
     },
     "execution_count": 28,
     "metadata": {},
     "output_type": "execute_result"
    }
   ],
   "source": [
    "#What is the average of \"TEAM\",\"TOTAL PLAYERS\"?\n",
    "\n",
    "auction[[\"TEAM\",\"TOTAL PLAYERS\"]].groupby(\"TEAM\").mean()"
   ]
  },
  {
   "cell_type": "code",
   "execution_count": 29,
   "id": "714d19bc-39c1-4ed1-9a2e-736b4ec04a3c",
   "metadata": {},
   "outputs": [
    {
     "data": {
      "text/plain": [
       "TEAM\n",
       "Chennai Super King            25.0\n",
       "Delhi Capitals                24.0\n",
       "Gujrat Titans                 23.0\n",
       "Kolkata Knight Riders         25.0\n",
       "Lucknow Super Gaints          21.0\n",
       "Mumbai Indians                25.0\n",
       "Punjab Kings                  25.0\n",
       "Rajasthan Royals              24.0\n",
       "Royal Challengers Bangloro    22.0\n",
       "Sunrisers Hydrabad            23.0\n",
       "Name: TOTAL PLAYERS, dtype: float64"
      ]
     },
     "execution_count": 29,
     "metadata": {},
     "output_type": "execute_result"
    }
   ],
   "source": [
    "auction.groupby(\"TEAM\")[\"TOTAL PLAYERS\"].mean()"
   ]
  },
  {
   "cell_type": "code",
   "execution_count": 30,
   "id": "a0400e2e-0d78-48b3-83aa-0f352dd15097",
   "metadata": {},
   "outputs": [
    {
     "data": {
      "text/plain": [
       "TEAM                        FUNDS REMAINING\n",
       "Chennai Super King          29500000           25.0\n",
       "Delhi Capitals              1000000            24.0\n",
       "Gujrat Titans               1500000            23.0\n",
       "Kolkata Knight Riders       4500000            25.0\n",
       "Lucknow Super Gaints        0                  21.0\n",
       "Mumbai Indians              1000000            25.0\n",
       "Punjab Kings                3450000            25.0\n",
       "Rajasthan Royals            9500000            24.0\n",
       "Royal Challengers Bangloro  1550000            22.0\n",
       "Sunrisers Hydrabad          10000000           23.0\n",
       "Name: TOTAL PLAYERS, dtype: float64"
      ]
     },
     "execution_count": 30,
     "metadata": {},
     "output_type": "execute_result"
    }
   ],
   "source": [
    "auction.groupby([\"TEAM\", \"FUNDS REMAINING\"])[\"TOTAL PLAYERS\"].mean()"
   ]
  },
  {
   "cell_type": "code",
   "execution_count": 31,
   "id": "efb856b2-96c7-4221-a206-537888e93076",
   "metadata": {},
   "outputs": [
    {
     "data": {
      "text/plain": [
       "FUNDS REMAINING\n",
       "1000000     2\n",
       "29500000    1\n",
       "1500000     1\n",
       "4500000     1\n",
       "0           1\n",
       "3450000     1\n",
       "9500000     1\n",
       "1550000     1\n",
       "10000000    1\n",
       "Name: count, dtype: int64"
      ]
     },
     "execution_count": 31,
     "metadata": {},
     "output_type": "execute_result"
    }
   ],
   "source": [
    "auction[\"FUNDS REMAINING\"].value_counts()"
   ]
  },
  {
   "cell_type": "code",
   "execution_count": 32,
   "id": "c2d87450-ddbe-4115-8db9-4457f19ceb75",
   "metadata": {},
   "outputs": [
    {
     "data": {
      "text/plain": [
       "FUNDS REMAINING\n",
       "0           1\n",
       "1000000     2\n",
       "1500000     1\n",
       "1550000     1\n",
       "3450000     1\n",
       "4500000     1\n",
       "9500000     1\n",
       "10000000    1\n",
       "29500000    1\n",
       "Name: TEAM, dtype: int64"
      ]
     },
     "execution_count": 32,
     "metadata": {},
     "output_type": "execute_result"
    }
   ],
   "source": [
    "auction.groupby(\"FUNDS REMAINING\")[\"TEAM\"].count()"
   ]
  },
  {
   "cell_type": "code",
   "execution_count": 33,
   "id": "61d0ca12-8b6b-498a-a144-be2f19eae2e6",
   "metadata": {},
   "outputs": [
    {
     "data": {
      "text/plain": [
       "FUNDS REMAINING\n",
       "0           1\n",
       "1000000     2\n",
       "1500000     1\n",
       "1550000     1\n",
       "3450000     1\n",
       "4500000     1\n",
       "9500000     1\n",
       "10000000    1\n",
       "29500000    1\n",
       "Name: FUNDS REMAINING, dtype: int64"
      ]
     },
     "execution_count": 33,
     "metadata": {},
     "output_type": "execute_result"
    }
   ],
   "source": [
    "auction.groupby(\"FUNDS REMAINING\")[\"FUNDS REMAINING\"].size()"
   ]
  },
  {
   "cell_type": "code",
   "execution_count": 34,
   "id": "9e90154f-b425-4ed7-93d8-e3f8f9fd772b",
   "metadata": {},
   "outputs": [],
   "source": [
    "# Ensure 'FUNDS REMAINING' is converted to float\n",
    "auction['FUNDS REMAINING'] = auction['FUNDS REMAINING'].astype(float)\n",
    "\n",
    "# Replace a value with NaN\n",
    "auction.loc[1, 'SR. NO'] = np.nan"
   ]
  },
  {
   "cell_type": "code",
   "execution_count": 35,
   "id": "3228b925-638e-4c5d-97ce-0a7c2f7b563b",
   "metadata": {},
   "outputs": [
    {
     "name": "stdout",
     "output_type": "stream",
     "text": [
      "Size: 10\n",
      "Count: 0\n"
     ]
    }
   ],
   "source": [
    "# Total size (including NaN)\n",
    "print(\"Size:\", auction['SR. NO'].size)\n",
    "\n",
    "# Non-NaN count\n",
    "print(\"Count:\", auction['SR. NO'].count())"
   ]
  },
  {
   "cell_type": "markdown",
   "id": "a802b228-9c9f-4ed9-94a0-09f12ab945ae",
   "metadata": {},
   "source": [
    "03 Compute dispersion of the data such minimum, maximum, range, count, variance, standard deviation, IQR"
   ]
  },
  {
   "cell_type": "code",
   "execution_count": 37,
   "id": "c331c272-f841-41c2-8a88-d36eaf2d2955",
   "metadata": {},
   "outputs": [
    {
     "name": "stdout",
     "output_type": "stream",
     "text": [
      "\n",
      "Min price:  0.0\n",
      "\n",
      "Max price:  29500000.0\n",
      "\n",
      "Range price:  29500000.0\n",
      "\n",
      "Variance price:  2.011111111111111\n",
      "\n",
      "Standard deviation price:  1.4181364924121764\n",
      "\n",
      "IQR price:  2.1999999999999993\n"
     ]
    }
   ],
   "source": [
    "#Dispersion calculations for 'FUND REMAINING'\n",
    "min_price = auction['FUNDS REMAINING'].min()\n",
    "max_price = auction['FUNDS REMAINING'].max()\n",
    "range_price = max_price - min_price\n",
    "variance_price = auction['TOTAL PLAYERS'].var()\n",
    "std_dev_price = auction['TOTAL PLAYERS'].std()\n",
    "iqr_price = auction['TOTAL PLAYERS'].quantile(0.75) - auction['TOTAL PLAYERS'].quantile(0.2)\n",
    "print(\"\\nMin price: \", min_price)\n",
    "print(\"\\nMax price: \", max_price)\n",
    "print(\"\\nRange price: \", range_price)\n",
    "print(\"\\nVariance price: \", variance_price)\n",
    "print(\"\\nStandard deviation price: \", std_dev_price)\n",
    "print(\"\\nIQR price: \", iqr_price)"
   ]
  },
  {
   "cell_type": "markdown",
   "id": "4e1133c5-b200-4b8e-8ad9-ddc2ce550bc7",
   "metadata": {},
   "source": [
    "04 A logistics company wants to analyze the distances between its delivery hub and several customer locations in a city.\n",
    "   The locations of the hub and customers are represented as coordinates on a 2D plane.\n",
    "                     * Delivery hub coordinates: (0,0)\n",
    "                     * Customer locations: Customer 1: (3,4), Customer 2: (1,1), Customer 3: (5,2)\n",
    "                a. Calculate Euclidean, Manhattan, Minkowski (p=3) and chebyshev distance\n"
   ]
  },
  {
   "cell_type": "code",
   "execution_count": 39,
   "id": "3098fed1-2daf-4aed-94a7-c0112eae5493",
   "metadata": {},
   "outputs": [
    {
     "name": "stdout",
     "output_type": "stream",
     "text": [
      "\n",
      "Distance calculation: \n",
      "\n",
      "Customer1: \n",
      "Euclidean: 5.0\n",
      "Manhattan: 7\n",
      "Minkowski: 5.0\n",
      "Chebyshev: 4\n",
      "\n",
      "Customer2: \n",
      "Euclidean: 1.4142135623730951\n",
      "Manhattan: 2\n",
      "Minkowski: 1.4142135623730951\n",
      "Chebyshev: 1\n",
      "\n",
      "Customer3: \n",
      "Euclidean: 5.385164807134504\n",
      "Manhattan: 7\n",
      "Minkowski: 5.385164807134504\n",
      "Chebyshev: 5\n"
     ]
    }
   ],
   "source": [
    "# Distance calculations for various metrics\n",
    "initial = (0, 0)  # Define the initial point (origin)\n",
    "final = [(3, 4), (1, 1), (5, 2)]  # List of final points (customers)\n",
    "\n",
    "# Print header for distance calculations\n",
    "print(\"\\nDistance calculation: \") \n",
    "\n",
    "# Iterate over each final point to calculate distances\n",
    "for i, fin in enumerate(final):\n",
    "    # Calculate Euclidean distance\n",
    "    euc = euclidean(initial, fin) \n",
    "    # Calculate Manhattan distance\n",
    "    man = cityblock(initial, fin)\n",
    "    # Calculate Minkowski distance with p=2\n",
    "    mink = minkowski(initial, fin, 2)  \n",
    "    # Calculate Chebyshev distance\n",
    "    cheb = chebyshev(initial, fin) \n",
    "\n",
    "    # Print results for each customer\n",
    "    print(f\"\\nCustomer{i+1}: \")  \n",
    "    # Indicate which customer is being processed\n",
    "    print(f\"Euclidean: {euc}\")  \n",
    "    # Output Euclidean distance\n",
    "    print(f\"Manhattan: {man}\")  \n",
    "    # Output Manhattan distance\n",
    "    print(f\"Minkowski: {mink}\")  \n",
    "    # Output Minkowski distance\n",
    "    print(f\"Chebyshev: {cheb}\")  \n",
    "# Output Chebyshev distance"
   ]
  },
  {
   "cell_type": "code",
   "execution_count": null,
   "id": "b38d9a77-e1cd-487b-be58-4552181d6880",
   "metadata": {},
   "outputs": [],
   "source": []
  }
 ],
 "metadata": {
  "kernelspec": {
   "display_name": "Python [conda env:base] *",
   "language": "python",
   "name": "conda-base-py"
  },
  "language_info": {
   "codemirror_mode": {
    "name": "ipython",
    "version": 3
   },
   "file_extension": ".py",
   "mimetype": "text/x-python",
   "name": "python",
   "nbconvert_exporter": "python",
   "pygments_lexer": "ipython3",
   "version": "3.12.7"
  }
 },
 "nbformat": 4,
 "nbformat_minor": 5
}
