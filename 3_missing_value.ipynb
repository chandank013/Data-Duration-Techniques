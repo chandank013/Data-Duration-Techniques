{
 "cells": [
  {
   "cell_type": "code",
   "execution_count": 275,
   "id": "b9762ca6-b660-4bc6-8d2d-1edda61e64d3",
   "metadata": {},
   "outputs": [
    {
     "data": {
      "text/html": [
       "<div>\n",
       "<style scoped>\n",
       "    .dataframe tbody tr th:only-of-type {\n",
       "        vertical-align: middle;\n",
       "    }\n",
       "\n",
       "    .dataframe tbody tr th {\n",
       "        vertical-align: top;\n",
       "    }\n",
       "\n",
       "    .dataframe thead th {\n",
       "        text-align: right;\n",
       "    }\n",
       "</style>\n",
       "<table border=\"1\" class=\"dataframe\">\n",
       "  <thead>\n",
       "    <tr style=\"text-align: right;\">\n",
       "      <th></th>\n",
       "      <th>Unnamed: 0</th>\n",
       "      <th>SR. NO.</th>\n",
       "      <th>TEAM</th>\n",
       "      <th>FUNDS REMAINING</th>\n",
       "      <th>OVERSEAS PLAYERS</th>\n",
       "      <th>TOTAL PLAYERS</th>\n",
       "    </tr>\n",
       "  </thead>\n",
       "  <tbody>\n",
       "    <tr>\n",
       "      <th>0</th>\n",
       "      <td>0</td>\n",
       "      <td>NaN</td>\n",
       "      <td>Chennai Super King</td>\n",
       "      <td>29500000.0</td>\n",
       "      <td>8</td>\n",
       "      <td>25.0</td>\n",
       "    </tr>\n",
       "    <tr>\n",
       "      <th>1</th>\n",
       "      <td>1</td>\n",
       "      <td>NaN</td>\n",
       "      <td>Delhi Capitals</td>\n",
       "      <td>1000000.0</td>\n",
       "      <td>7</td>\n",
       "      <td>24.0</td>\n",
       "    </tr>\n",
       "    <tr>\n",
       "      <th>2</th>\n",
       "      <td>2</td>\n",
       "      <td>NaN</td>\n",
       "      <td>Gujrat Titans</td>\n",
       "      <td>1500000.0</td>\n",
       "      <td>8</td>\n",
       "      <td>23.0</td>\n",
       "    </tr>\n",
       "    <tr>\n",
       "      <th>3</th>\n",
       "      <td>3</td>\n",
       "      <td>NaN</td>\n",
       "      <td>Kolkata Knight Riders</td>\n",
       "      <td>4500000.0</td>\n",
       "      <td>8</td>\n",
       "      <td>25.0</td>\n",
       "    </tr>\n",
       "    <tr>\n",
       "      <th>4</th>\n",
       "      <td>4</td>\n",
       "      <td>NaN</td>\n",
       "      <td>Lucknow Super Gaints</td>\n",
       "      <td>NaN</td>\n",
       "      <td>7</td>\n",
       "      <td>NaN</td>\n",
       "    </tr>\n",
       "  </tbody>\n",
       "</table>\n",
       "</div>"
      ],
      "text/plain": [
       "   Unnamed: 0  SR. NO.                   TEAM  FUNDS REMAINING  \\\n",
       "0           0      NaN     Chennai Super King       29500000.0   \n",
       "1           1      NaN         Delhi Capitals        1000000.0   \n",
       "2           2      NaN          Gujrat Titans        1500000.0   \n",
       "3           3      NaN  Kolkata Knight Riders        4500000.0   \n",
       "4           4      NaN   Lucknow Super Gaints              NaN   \n",
       "\n",
       "   OVERSEAS PLAYERS   TOTAL PLAYERS  \n",
       "0                  8           25.0  \n",
       "1                  7           24.0  \n",
       "2                  8           23.0  \n",
       "3                  8           25.0  \n",
       "4                  7            NaN  "
      ]
     },
     "execution_count": 275,
     "metadata": {},
     "output_type": "execute_result"
    }
   ],
   "source": [
    "import pandas as pd\n",
    "import numpy as np\n",
    "\n",
    "auction = pd.read_csv(\"C:/Users/Arjun/06_JN/ipl auction stats__static.csv\")\n",
    "auction.head()"
   ]
  },
  {
   "cell_type": "code",
   "execution_count": 276,
   "id": "df3e96c5-b633-4bd8-9ab3-4942bcb32b55",
   "metadata": {},
   "outputs": [
    {
     "data": {
      "text/html": [
       "<div>\n",
       "<style scoped>\n",
       "    .dataframe tbody tr th:only-of-type {\n",
       "        vertical-align: middle;\n",
       "    }\n",
       "\n",
       "    .dataframe tbody tr th {\n",
       "        vertical-align: top;\n",
       "    }\n",
       "\n",
       "    .dataframe thead th {\n",
       "        text-align: right;\n",
       "    }\n",
       "</style>\n",
       "<table border=\"1\" class=\"dataframe\">\n",
       "  <thead>\n",
       "    <tr style=\"text-align: right;\">\n",
       "      <th></th>\n",
       "      <th>Unnamed: 0</th>\n",
       "      <th>SR. NO.</th>\n",
       "      <th>TEAM</th>\n",
       "      <th>FUNDS REMAINING</th>\n",
       "      <th>OVERSEAS PLAYERS</th>\n",
       "      <th>TOTAL PLAYERS</th>\n",
       "    </tr>\n",
       "  </thead>\n",
       "  <tbody>\n",
       "    <tr>\n",
       "      <th>0</th>\n",
       "      <td>False</td>\n",
       "      <td>True</td>\n",
       "      <td>False</td>\n",
       "      <td>False</td>\n",
       "      <td>False</td>\n",
       "      <td>False</td>\n",
       "    </tr>\n",
       "    <tr>\n",
       "      <th>1</th>\n",
       "      <td>False</td>\n",
       "      <td>True</td>\n",
       "      <td>False</td>\n",
       "      <td>False</td>\n",
       "      <td>False</td>\n",
       "      <td>False</td>\n",
       "    </tr>\n",
       "    <tr>\n",
       "      <th>2</th>\n",
       "      <td>False</td>\n",
       "      <td>True</td>\n",
       "      <td>False</td>\n",
       "      <td>False</td>\n",
       "      <td>False</td>\n",
       "      <td>False</td>\n",
       "    </tr>\n",
       "    <tr>\n",
       "      <th>3</th>\n",
       "      <td>False</td>\n",
       "      <td>True</td>\n",
       "      <td>False</td>\n",
       "      <td>False</td>\n",
       "      <td>False</td>\n",
       "      <td>False</td>\n",
       "    </tr>\n",
       "    <tr>\n",
       "      <th>4</th>\n",
       "      <td>False</td>\n",
       "      <td>True</td>\n",
       "      <td>False</td>\n",
       "      <td>True</td>\n",
       "      <td>False</td>\n",
       "      <td>True</td>\n",
       "    </tr>\n",
       "    <tr>\n",
       "      <th>5</th>\n",
       "      <td>False</td>\n",
       "      <td>True</td>\n",
       "      <td>False</td>\n",
       "      <td>False</td>\n",
       "      <td>False</td>\n",
       "      <td>False</td>\n",
       "    </tr>\n",
       "    <tr>\n",
       "      <th>6</th>\n",
       "      <td>False</td>\n",
       "      <td>True</td>\n",
       "      <td>False</td>\n",
       "      <td>False</td>\n",
       "      <td>False</td>\n",
       "      <td>False</td>\n",
       "    </tr>\n",
       "    <tr>\n",
       "      <th>7</th>\n",
       "      <td>False</td>\n",
       "      <td>True</td>\n",
       "      <td>False</td>\n",
       "      <td>False</td>\n",
       "      <td>False</td>\n",
       "      <td>False</td>\n",
       "    </tr>\n",
       "    <tr>\n",
       "      <th>8</th>\n",
       "      <td>False</td>\n",
       "      <td>True</td>\n",
       "      <td>False</td>\n",
       "      <td>False</td>\n",
       "      <td>False</td>\n",
       "      <td>False</td>\n",
       "    </tr>\n",
       "    <tr>\n",
       "      <th>9</th>\n",
       "      <td>False</td>\n",
       "      <td>True</td>\n",
       "      <td>False</td>\n",
       "      <td>False</td>\n",
       "      <td>False</td>\n",
       "      <td>False</td>\n",
       "    </tr>\n",
       "  </tbody>\n",
       "</table>\n",
       "</div>"
      ],
      "text/plain": [
       "   Unnamed: 0  SR. NO.   TEAM  FUNDS REMAINING  OVERSEAS PLAYERS   \\\n",
       "0       False     True  False            False              False   \n",
       "1       False     True  False            False              False   \n",
       "2       False     True  False            False              False   \n",
       "3       False     True  False            False              False   \n",
       "4       False     True  False             True              False   \n",
       "5       False     True  False            False              False   \n",
       "6       False     True  False            False              False   \n",
       "7       False     True  False            False              False   \n",
       "8       False     True  False            False              False   \n",
       "9       False     True  False            False              False   \n",
       "\n",
       "   TOTAL PLAYERS  \n",
       "0          False  \n",
       "1          False  \n",
       "2          False  \n",
       "3          False  \n",
       "4           True  \n",
       "5          False  \n",
       "6          False  \n",
       "7          False  \n",
       "8          False  \n",
       "9          False  "
      ]
     },
     "execution_count": 276,
     "metadata": {},
     "output_type": "execute_result"
    }
   ],
   "source": [
    "auction.isnull()"
   ]
  },
  {
   "cell_type": "code",
   "execution_count": 277,
   "id": "f218e2f3-3846-4a6a-9472-43ff89472b38",
   "metadata": {},
   "outputs": [
    {
     "data": {
      "text/plain": [
       "Unnamed: 0           False\n",
       "SR. NO.               True\n",
       "TEAM                 False\n",
       "FUNDS REMAINING       True\n",
       "OVERSEAS PLAYERS     False\n",
       "TOTAL PLAYERS         True\n",
       "dtype: bool"
      ]
     },
     "execution_count": 277,
     "metadata": {},
     "output_type": "execute_result"
    }
   ],
   "source": [
    "auction.isna().any()"
   ]
  },
  {
   "cell_type": "code",
   "execution_count": 278,
   "id": "aa590d0a-9b61-4184-9b84-0de2ade2ba95",
   "metadata": {},
   "outputs": [
    {
     "data": {
      "text/plain": [
       "Unnamed: 0            0\n",
       "SR. NO.              10\n",
       "TEAM                  0\n",
       "FUNDS REMAINING       1\n",
       "OVERSEAS PLAYERS      0\n",
       "TOTAL PLAYERS         1\n",
       "dtype: int64"
      ]
     },
     "execution_count": 278,
     "metadata": {},
     "output_type": "execute_result"
    }
   ],
   "source": [
    "auction.isna().sum()"
   ]
  },
  {
   "cell_type": "code",
   "execution_count": 279,
   "id": "cbe5e0d9-2953-4f79-86f5-64b5b7b07582",
   "metadata": {},
   "outputs": [
    {
     "data": {
      "text/plain": [
       "Unnamed: 0            0\n",
       "SR. NO.              10\n",
       "TEAM                  0\n",
       "FUNDS REMAINING       1\n",
       "OVERSEAS PLAYERS      0\n",
       "TOTAL PLAYERS         1\n",
       "dtype: int64"
      ]
     },
     "execution_count": 279,
     "metadata": {},
     "output_type": "execute_result"
    }
   ],
   "source": [
    "auction.isnull().sum()"
   ]
  },
  {
   "cell_type": "code",
   "execution_count": 280,
   "id": "fd28364a-2386-4e00-a1af-c300cb7ef78f",
   "metadata": {},
   "outputs": [
    {
     "data": {
      "text/plain": [
       "Unnamed: 0           10\n",
       "SR. NO.               0\n",
       "TEAM                 10\n",
       "FUNDS REMAINING       9\n",
       "OVERSEAS PLAYERS     10\n",
       "TOTAL PLAYERS         9\n",
       "dtype: int64"
      ]
     },
     "execution_count": 280,
     "metadata": {},
     "output_type": "execute_result"
    }
   ],
   "source": [
    "auction.notnull().sum()"
   ]
  },
  {
   "cell_type": "code",
   "execution_count": 281,
   "id": "85737dd5-9980-46b3-8022-0caa90eb5917",
   "metadata": {},
   "outputs": [
    {
     "data": {
      "text/plain": [
       "(10, 6)"
      ]
     },
     "execution_count": 281,
     "metadata": {},
     "output_type": "execute_result"
    }
   ],
   "source": [
    "auction.shape"
   ]
  },
  {
   "cell_type": "markdown",
   "id": "ce725f41-8664-4fd6-87fb-e80550c5f6d4",
   "metadata": {},
   "source": [
    "#2.1 Drop all rows containing any null values."
   ]
  },
  {
   "cell_type": "code",
   "execution_count": 283,
   "id": "45845192-e08b-4544-8063-a2e2bf7bdc04",
   "metadata": {},
   "outputs": [
    {
     "data": {
      "text/plain": [
       "(10, 6)"
      ]
     },
     "execution_count": 283,
     "metadata": {},
     "output_type": "execute_result"
    }
   ],
   "source": [
    "drop_auction = auction.dropna(axis=0) \n",
    "auction.shape"
   ]
  },
  {
   "cell_type": "markdown",
   "id": "cedf261a-f61f-4071-b09b-191b9d6afe6e",
   "metadata": {},
   "source": [
    "2.2 Drop all columns containing any null values."
   ]
  },
  {
   "cell_type": "code",
   "execution_count": 285,
   "id": "b886edb3-23ab-44cc-b16a-ccc301a1178b",
   "metadata": {},
   "outputs": [
    {
     "data": {
      "text/plain": [
       "(10, 6)"
      ]
     },
     "execution_count": 285,
     "metadata": {},
     "output_type": "execute_result"
    }
   ],
   "source": [
    "drop_auction = auction.dropna(axis=1) \n",
    "auction.shape"
   ]
  },
  {
   "cell_type": "markdown",
   "id": "52f51287-11ad-44b8-98f4-58b860f82c2c",
   "metadata": {},
   "source": [
    "2.3 Drop rows with at least one missing value."
   ]
  },
  {
   "cell_type": "code",
   "execution_count": 287,
   "id": "4e804fe7-639b-4d1b-8256-397ce20fe897",
   "metadata": {},
   "outputs": [
    {
     "data": {
      "text/plain": [
       "(10, 6)"
      ]
     },
     "execution_count": 287,
     "metadata": {},
     "output_type": "execute_result"
    }
   ],
   "source": [
    "drop_auction = auction.dropna(how='any')\n",
    "auction.shape"
   ]
  },
  {
   "cell_type": "markdown",
   "id": "d0509a19-5407-41a7-870a-42e7144800ce",
   "metadata": {},
   "source": [
    "2.4 Drop rows only where all values are missing"
   ]
  },
  {
   "cell_type": "code",
   "execution_count": 289,
   "id": "e8bc80cf-5aa6-4345-a554-0b5d939b0b40",
   "metadata": {},
   "outputs": [
    {
     "data": {
      "text/plain": [
       "(10, 6)"
      ]
     },
     "execution_count": 289,
     "metadata": {},
     "output_type": "execute_result"
    }
   ],
   "source": [
    "drop_auction = auction.dropna(how='all')\n",
    "auction.shape"
   ]
  },
  {
   "cell_type": "markdown",
   "id": "04c25997-8870-45d8-8d7e-b753701b12c5",
   "metadata": {},
   "source": [
    "2.5 Drop rows based on different threshold values"
   ]
  },
  {
   "cell_type": "code",
   "execution_count": 291,
   "id": "c3a01ecf-5ea5-4658-bc66-08e654505b97",
   "metadata": {},
   "outputs": [
    {
     "data": {
      "text/plain": [
       "(10, 6)"
      ]
     },
     "execution_count": 291,
     "metadata": {},
     "output_type": "execute_result"
    }
   ],
   "source": [
    "drop_auction = auction.dropna(thresh=11)\n",
    "auction.shape"
   ]
  },
  {
   "cell_type": "markdown",
   "id": "68655e06-f585-4f6b-a293-e86ae3d3aafb",
   "metadata": {},
   "source": [
    "2.6 Drop rows only when null values are present in a specific subset \n",
    "of columns"
   ]
  },
  {
   "cell_type": "code",
   "execution_count": 293,
   "id": "397a2a16-a58f-40c4-8eff-960439297441",
   "metadata": {},
   "outputs": [
    {
     "data": {
      "text/plain": [
       "(10, 6)"
      ]
     },
     "execution_count": 293,
     "metadata": {},
     "output_type": "execute_result"
    }
   ],
   "source": [
    "drop_auction = auction.dropna(subset=['FUNDS REMAINING','TOTAL PLAYERS'])\n",
    "auction.shape"
   ]
  },
  {
   "cell_type": "markdown",
   "id": "2c8bb657-1f34-4888-870c-6de1c0563947",
   "metadata": {},
   "source": [
    "3.1 Load the dataset"
   ]
  },
  {
   "cell_type": "code",
   "execution_count": 295,
   "id": "5ceabf35-c9f0-472f-9113-393ffc0d0ed2",
   "metadata": {},
   "outputs": [
    {
     "name": "stdout",
     "output_type": "stream",
     "text": [
      "   ID     Name   Age          State   Department   Salary Joining_Date\n",
      "0   1    Aarav  25.0      Karnataka  Engineering  50000.0   15-01-2020\n",
      "1   2    Aditi   NaN    Maharashtra           HR  55000.0   20-05-2019\n",
      "2   3  Krishna  30.0      Karnataka  Engineering      NaN   10-06-2021\n",
      "3   4    Meera  28.0            NaN      Finance  60000.0   01-08-2018\n",
      "4   5   Ananya  35.0         Kerala      Finance  70000.0          NaN\n",
      "5   6      NaN  29.0     Tamil Nadu  Engineering  58000.0   05-03-2022\n",
      "6   7    Rohan  40.0          Delhi    Marketing      NaN   11-12-2017\n",
      "7   8   Ishita  32.0  Uttar Pradesh      Finance  75000.0   20-10-2019\n"
     ]
    }
   ],
   "source": [
    "data=pd.read_csv(\"C:/Users/Arjun/06_JN/fill_missing_values.csv\")\n",
    "print(data)"
   ]
  },
  {
   "cell_type": "markdown",
   "id": "15203805-97ef-4229-8f81-c6280dd7a1dd",
   "metadata": {},
   "source": [
    "#3.2 Replace all missing values in the dataset with the value \"-1\"."
   ]
  },
  {
   "cell_type": "code",
   "execution_count": 297,
   "id": "2ac5d955-0db8-4b63-be7b-1c41999e8e0e",
   "metadata": {},
   "outputs": [
    {
     "data": {
      "text/html": [
       "<div>\n",
       "<style scoped>\n",
       "    .dataframe tbody tr th:only-of-type {\n",
       "        vertical-align: middle;\n",
       "    }\n",
       "\n",
       "    .dataframe tbody tr th {\n",
       "        vertical-align: top;\n",
       "    }\n",
       "\n",
       "    .dataframe thead th {\n",
       "        text-align: right;\n",
       "    }\n",
       "</style>\n",
       "<table border=\"1\" class=\"dataframe\">\n",
       "  <thead>\n",
       "    <tr style=\"text-align: right;\">\n",
       "      <th></th>\n",
       "      <th>ID</th>\n",
       "      <th>Name</th>\n",
       "      <th>Age</th>\n",
       "      <th>State</th>\n",
       "      <th>Department</th>\n",
       "      <th>Salary</th>\n",
       "      <th>Joining_Date</th>\n",
       "    </tr>\n",
       "  </thead>\n",
       "  <tbody>\n",
       "    <tr>\n",
       "      <th>0</th>\n",
       "      <td>1</td>\n",
       "      <td>Aarav</td>\n",
       "      <td>25.0</td>\n",
       "      <td>Karnataka</td>\n",
       "      <td>Engineering</td>\n",
       "      <td>50000.0</td>\n",
       "      <td>15-01-2020</td>\n",
       "    </tr>\n",
       "    <tr>\n",
       "      <th>1</th>\n",
       "      <td>2</td>\n",
       "      <td>Aditi</td>\n",
       "      <td>-1.0</td>\n",
       "      <td>Maharashtra</td>\n",
       "      <td>HR</td>\n",
       "      <td>55000.0</td>\n",
       "      <td>20-05-2019</td>\n",
       "    </tr>\n",
       "    <tr>\n",
       "      <th>2</th>\n",
       "      <td>3</td>\n",
       "      <td>Krishna</td>\n",
       "      <td>30.0</td>\n",
       "      <td>Karnataka</td>\n",
       "      <td>Engineering</td>\n",
       "      <td>-1.0</td>\n",
       "      <td>10-06-2021</td>\n",
       "    </tr>\n",
       "    <tr>\n",
       "      <th>3</th>\n",
       "      <td>4</td>\n",
       "      <td>Meera</td>\n",
       "      <td>28.0</td>\n",
       "      <td>-1</td>\n",
       "      <td>Finance</td>\n",
       "      <td>60000.0</td>\n",
       "      <td>01-08-2018</td>\n",
       "    </tr>\n",
       "    <tr>\n",
       "      <th>4</th>\n",
       "      <td>5</td>\n",
       "      <td>Ananya</td>\n",
       "      <td>35.0</td>\n",
       "      <td>Kerala</td>\n",
       "      <td>Finance</td>\n",
       "      <td>70000.0</td>\n",
       "      <td>-1</td>\n",
       "    </tr>\n",
       "    <tr>\n",
       "      <th>5</th>\n",
       "      <td>6</td>\n",
       "      <td>-1</td>\n",
       "      <td>29.0</td>\n",
       "      <td>Tamil Nadu</td>\n",
       "      <td>Engineering</td>\n",
       "      <td>58000.0</td>\n",
       "      <td>05-03-2022</td>\n",
       "    </tr>\n",
       "    <tr>\n",
       "      <th>6</th>\n",
       "      <td>7</td>\n",
       "      <td>Rohan</td>\n",
       "      <td>40.0</td>\n",
       "      <td>Delhi</td>\n",
       "      <td>Marketing</td>\n",
       "      <td>-1.0</td>\n",
       "      <td>11-12-2017</td>\n",
       "    </tr>\n",
       "    <tr>\n",
       "      <th>7</th>\n",
       "      <td>8</td>\n",
       "      <td>Ishita</td>\n",
       "      <td>32.0</td>\n",
       "      <td>Uttar Pradesh</td>\n",
       "      <td>Finance</td>\n",
       "      <td>75000.0</td>\n",
       "      <td>20-10-2019</td>\n",
       "    </tr>\n",
       "  </tbody>\n",
       "</table>\n",
       "</div>"
      ],
      "text/plain": [
       "   ID     Name   Age          State   Department   Salary Joining_Date\n",
       "0   1    Aarav  25.0      Karnataka  Engineering  50000.0   15-01-2020\n",
       "1   2    Aditi  -1.0    Maharashtra           HR  55000.0   20-05-2019\n",
       "2   3  Krishna  30.0      Karnataka  Engineering     -1.0   10-06-2021\n",
       "3   4    Meera  28.0             -1      Finance  60000.0   01-08-2018\n",
       "4   5   Ananya  35.0         Kerala      Finance  70000.0           -1\n",
       "5   6       -1  29.0     Tamil Nadu  Engineering  58000.0   05-03-2022\n",
       "6   7    Rohan  40.0          Delhi    Marketing     -1.0   11-12-2017\n",
       "7   8   Ishita  32.0  Uttar Pradesh      Finance  75000.0   20-10-2019"
      ]
     },
     "execution_count": 297,
     "metadata": {},
     "output_type": "execute_result"
    }
   ],
   "source": [
    "data.fillna(-1)"
   ]
  },
  {
   "cell_type": "markdown",
   "id": "194c2b5c-4031-49d0-ab9f-82b77368ba2e",
   "metadata": {},
   "source": [
    "3.3 Fill the missing values in the Age column with the mean age of \n",
    "all employees"
   ]
  },
  {
   "cell_type": "code",
   "execution_count": 299,
   "id": "10a140c0-9bf7-4681-896f-b9f12d1126d9",
   "metadata": {},
   "outputs": [
    {
     "data": {
      "text/plain": [
       "0    25.000000\n",
       "1    31.285714\n",
       "2    30.000000\n",
       "3    28.000000\n",
       "4    35.000000\n",
       "5    29.000000\n",
       "6    40.000000\n",
       "7    32.000000\n",
       "Name: Age, dtype: float64"
      ]
     },
     "execution_count": 299,
     "metadata": {},
     "output_type": "execute_result"
    }
   ],
   "source": [
    "data['Age'].fillna(data['Age'].mean())"
   ]
  },
  {
   "cell_type": "markdown",
   "id": "42e93e1c-3754-4292-b9ed-871d9b1571bb",
   "metadata": {},
   "source": [
    "3.4 Fill the missing values in the Salary column with the median \n",
    "salary of all employees"
   ]
  },
  {
   "cell_type": "code",
   "execution_count": 301,
   "id": "1f7ddfbb-1b28-4648-b7b0-2bb47f5a4e44",
   "metadata": {},
   "outputs": [
    {
     "data": {
      "text/plain": [
       "0    50000.0\n",
       "1    55000.0\n",
       "2    59000.0\n",
       "3    60000.0\n",
       "4    70000.0\n",
       "5    58000.0\n",
       "6    59000.0\n",
       "7    75000.0\n",
       "Name: Salary, dtype: float64"
      ]
     },
     "execution_count": 301,
     "metadata": {},
     "output_type": "execute_result"
    }
   ],
   "source": [
    "data['Salary'].fillna(data['Salary'].median())"
   ]
  },
  {
   "cell_type": "markdown",
   "id": "28e27ee2-8d30-4efc-aea7-f26b446ab751",
   "metadata": {},
   "source": [
    "3.5 Replace the missing values in the State column with the string \n",
    "\"Unknown\"."
   ]
  },
  {
   "cell_type": "code",
   "execution_count": 303,
   "id": "bfd1e6ea-7500-4264-89d5-43fe85387984",
   "metadata": {},
   "outputs": [
    {
     "data": {
      "text/html": [
       "<div>\n",
       "<style scoped>\n",
       "    .dataframe tbody tr th:only-of-type {\n",
       "        vertical-align: middle;\n",
       "    }\n",
       "\n",
       "    .dataframe tbody tr th {\n",
       "        vertical-align: top;\n",
       "    }\n",
       "\n",
       "    .dataframe thead th {\n",
       "        text-align: right;\n",
       "    }\n",
       "</style>\n",
       "<table border=\"1\" class=\"dataframe\">\n",
       "  <thead>\n",
       "    <tr style=\"text-align: right;\">\n",
       "      <th></th>\n",
       "      <th>ID</th>\n",
       "      <th>Name</th>\n",
       "      <th>Age</th>\n",
       "      <th>State</th>\n",
       "      <th>Department</th>\n",
       "      <th>Salary</th>\n",
       "      <th>Joining_Date</th>\n",
       "    </tr>\n",
       "  </thead>\n",
       "  <tbody>\n",
       "    <tr>\n",
       "      <th>0</th>\n",
       "      <td>1</td>\n",
       "      <td>Aarav</td>\n",
       "      <td>25.0</td>\n",
       "      <td>Karnataka</td>\n",
       "      <td>Engineering</td>\n",
       "      <td>50000.0</td>\n",
       "      <td>15-01-2020</td>\n",
       "    </tr>\n",
       "    <tr>\n",
       "      <th>1</th>\n",
       "      <td>2</td>\n",
       "      <td>Aditi</td>\n",
       "      <td>NaN</td>\n",
       "      <td>Maharashtra</td>\n",
       "      <td>HR</td>\n",
       "      <td>55000.0</td>\n",
       "      <td>20-05-2019</td>\n",
       "    </tr>\n",
       "    <tr>\n",
       "      <th>2</th>\n",
       "      <td>3</td>\n",
       "      <td>Krishna</td>\n",
       "      <td>30.0</td>\n",
       "      <td>Karnataka</td>\n",
       "      <td>Engineering</td>\n",
       "      <td>NaN</td>\n",
       "      <td>10-06-2021</td>\n",
       "    </tr>\n",
       "    <tr>\n",
       "      <th>3</th>\n",
       "      <td>4</td>\n",
       "      <td>Meera</td>\n",
       "      <td>28.0</td>\n",
       "      <td>Unknown</td>\n",
       "      <td>Finance</td>\n",
       "      <td>60000.0</td>\n",
       "      <td>01-08-2018</td>\n",
       "    </tr>\n",
       "    <tr>\n",
       "      <th>4</th>\n",
       "      <td>5</td>\n",
       "      <td>Ananya</td>\n",
       "      <td>35.0</td>\n",
       "      <td>Kerala</td>\n",
       "      <td>Finance</td>\n",
       "      <td>70000.0</td>\n",
       "      <td>NaN</td>\n",
       "    </tr>\n",
       "    <tr>\n",
       "      <th>5</th>\n",
       "      <td>6</td>\n",
       "      <td>NaN</td>\n",
       "      <td>29.0</td>\n",
       "      <td>Tamil Nadu</td>\n",
       "      <td>Engineering</td>\n",
       "      <td>58000.0</td>\n",
       "      <td>05-03-2022</td>\n",
       "    </tr>\n",
       "    <tr>\n",
       "      <th>6</th>\n",
       "      <td>7</td>\n",
       "      <td>Rohan</td>\n",
       "      <td>40.0</td>\n",
       "      <td>Delhi</td>\n",
       "      <td>Marketing</td>\n",
       "      <td>NaN</td>\n",
       "      <td>11-12-2017</td>\n",
       "    </tr>\n",
       "    <tr>\n",
       "      <th>7</th>\n",
       "      <td>8</td>\n",
       "      <td>Ishita</td>\n",
       "      <td>32.0</td>\n",
       "      <td>Uttar Pradesh</td>\n",
       "      <td>Finance</td>\n",
       "      <td>75000.0</td>\n",
       "      <td>20-10-2019</td>\n",
       "    </tr>\n",
       "  </tbody>\n",
       "</table>\n",
       "</div>"
      ],
      "text/plain": [
       "   ID     Name   Age          State   Department   Salary Joining_Date\n",
       "0   1    Aarav  25.0      Karnataka  Engineering  50000.0   15-01-2020\n",
       "1   2    Aditi   NaN    Maharashtra           HR  55000.0   20-05-2019\n",
       "2   3  Krishna  30.0      Karnataka  Engineering      NaN   10-06-2021\n",
       "3   4    Meera  28.0        Unknown      Finance  60000.0   01-08-2018\n",
       "4   5   Ananya  35.0         Kerala      Finance  70000.0          NaN\n",
       "5   6      NaN  29.0     Tamil Nadu  Engineering  58000.0   05-03-2022\n",
       "6   7    Rohan  40.0          Delhi    Marketing      NaN   11-12-2017\n",
       "7   8   Ishita  32.0  Uttar Pradesh      Finance  75000.0   20-10-2019"
      ]
     },
     "execution_count": 303,
     "metadata": {},
     "output_type": "execute_result"
    }
   ],
   "source": [
    "data.fillna({'State':\"Unknown\"})"
   ]
  },
  {
   "cell_type": "markdown",
   "id": "15f8b726-b922-4e04-9a5c-04df8245d141",
   "metadata": {},
   "source": [
    "3.6 Use backward fill to handle missing values in the Joining Date \n",
    "column. Print the modified dataset."
   ]
  },
  {
   "cell_type": "code",
   "execution_count": 305,
   "id": "03f085ab-2135-49fa-ba79-517395cd6055",
   "metadata": {},
   "outputs": [
    {
     "name": "stdout",
     "output_type": "stream",
     "text": [
      "   ID     Name   Age          State   Department   Salary Joining_Date\n",
      "0   1    Aarav  25.0      Karnataka  Engineering  50000.0   15-01-2020\n",
      "1   2    Aditi   NaN    Maharashtra           HR  55000.0   20-05-2019\n",
      "2   3  Krishna  30.0      Karnataka  Engineering      NaN   10-06-2021\n",
      "3   4    Meera  28.0            NaN      Finance  60000.0   01-08-2018\n",
      "4   5   Ananya  35.0         Kerala      Finance  70000.0   05-03-2022\n",
      "5   6      NaN  29.0     Tamil Nadu  Engineering  58000.0   05-03-2022\n",
      "6   7    Rohan  40.0          Delhi    Marketing      NaN   11-12-2017\n",
      "7   8   Ishita  32.0  Uttar Pradesh      Finance  75000.0   20-10-2019\n"
     ]
    },
    {
     "name": "stderr",
     "output_type": "stream",
     "text": [
      "C:\\Users\\Arjun\\AppData\\Local\\Temp\\ipykernel_12696\\1444887061.py:1: FutureWarning: A value is trying to be set on a copy of a DataFrame or Series through chained assignment using an inplace method.\n",
      "The behavior will change in pandas 3.0. This inplace method will never work because the intermediate object on which we are setting values always behaves as a copy.\n",
      "\n",
      "For example, when doing 'df[col].method(value, inplace=True)', try using 'df.method({col: value}, inplace=True)' or df[col] = df[col].method(value) instead, to perform the operation inplace on the original object.\n",
      "\n",
      "\n",
      "  data['Joining_Date'].bfill(inplace=True)\n"
     ]
    }
   ],
   "source": [
    "data['Joining_Date'].bfill(inplace=True) \n",
    "print(data)"
   ]
  },
  {
   "cell_type": "code",
   "execution_count": 306,
   "id": "59cd3033-96dd-4f46-9d97-50915f34db7b",
   "metadata": {},
   "outputs": [
    {
     "name": "stdout",
     "output_type": "stream",
     "text": [
      "0    50000.0\n",
      "1    55000.0\n",
      "2    55000.0\n",
      "3    60000.0\n",
      "4    70000.0\n",
      "5    58000.0\n",
      "6    58000.0\n",
      "7    75000.0\n",
      "Name: Salary, dtype: float64\n",
      "0    50000.0\n",
      "1    55000.0\n",
      "2    60000.0\n",
      "3    60000.0\n",
      "4    70000.0\n",
      "5    58000.0\n",
      "6    75000.0\n",
      "7    75000.0\n",
      "Name: Salary, dtype: float64\n"
     ]
    }
   ],
   "source": [
    "df=data['Salary'].ffill()\n",
    "print(df)\n",
    "db=data['Salary'].bfill()\n",
    "print(db)"
   ]
  },
  {
   "cell_type": "markdown",
   "id": "35c6302b-f7bf-4248-9225-a83ee57afe1c",
   "metadata": {},
   "source": [
    "3.7 Compare the mean salary of the dataset after using forward fill \n",
    "and backward fill for handling missing values in the Salary column."
   ]
  },
  {
   "cell_type": "code",
   "execution_count": 308,
   "id": "d483bd92-7d82-4773-b22e-86f68e2bce29",
   "metadata": {},
   "outputs": [
    {
     "name": "stdout",
     "output_type": "stream",
     "text": [
      "Mean Salary After Backward Fill: 60125.0\n",
      "Mean Salary After Forward Fill: 62875.0\n"
     ]
    }
   ],
   "source": [
    "mean_salary_bfill=df.mean()\n",
    "mean_salary_ffill=db.mean()\n",
    "print(\"Mean Salary After Backward Fill:\", mean_salary_bfill)\n",
    "print(\"Mean Salary After Forward Fill:\", mean_salary_ffill)"
   ]
  },
  {
   "cell_type": "code",
   "execution_count": null,
   "id": "a620d906-3f6f-4cd6-a48c-c7822ca74c41",
   "metadata": {},
   "outputs": [],
   "source": []
  }
 ],
 "metadata": {
  "kernelspec": {
   "display_name": "Python [conda env:base] *",
   "language": "python",
   "name": "conda-base-py"
  },
  "language_info": {
   "codemirror_mode": {
    "name": "ipython",
    "version": 3
   },
   "file_extension": ".py",
   "mimetype": "text/x-python",
   "name": "python",
   "nbconvert_exporter": "python",
   "pygments_lexer": "ipython3",
   "version": "3.12.7"
  }
 },
 "nbformat": 4,
 "nbformat_minor": 5
}
