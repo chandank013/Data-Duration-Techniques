{
 "cells": [
  {
   "cell_type": "code",
   "execution_count": 233,
   "id": "44d9a12d-6aa1-46d7-b19f-f8a8dd7e15c8",
   "metadata": {},
   "outputs": [],
   "source": [
    "import pandas as pd\n",
    "from imblearn.over_sampling import RandomOverSampler, SMOTE\n",
    "from imblearn.under_sampling import RandomUnderSampler"
   ]
  },
  {
   "cell_type": "markdown",
   "id": "629ac854-4d80-49d6-a023-bd933668021a",
   "metadata": {},
   "source": [
    "01.Read the attached CSV file which contains the customer data for a bank’s loan approval, where the target is whether the loan was approved or not.\n",
    "Columns:\n",
    "    ID: Unique identifier,\n",
    "    Age: Age of the applicant,\n",
    "    Income: Monthly income in INR,\n",
    "    Credit_Score: Creditworthiness on a scale of 300 to 900,\n",
    "    Loan_Approved: 1 for approved, 0 for not approved (imbalance: 70% not approved)"
   ]
  },
  {
   "cell_type": "code",
   "execution_count": 235,
   "id": "1db39cbb-96ac-4691-8780-d65b8c243006",
   "metadata": {},
   "outputs": [
    {
     "data": {
      "text/html": [
       "<div>\n",
       "<style scoped>\n",
       "    .dataframe tbody tr th:only-of-type {\n",
       "        vertical-align: middle;\n",
       "    }\n",
       "\n",
       "    .dataframe tbody tr th {\n",
       "        vertical-align: top;\n",
       "    }\n",
       "\n",
       "    .dataframe thead th {\n",
       "        text-align: right;\n",
       "    }\n",
       "</style>\n",
       "<table border=\"1\" class=\"dataframe\">\n",
       "  <thead>\n",
       "    <tr style=\"text-align: right;\">\n",
       "      <th></th>\n",
       "      <th>ID</th>\n",
       "      <th>Age</th>\n",
       "      <th>Income</th>\n",
       "      <th>Credit_Score</th>\n",
       "      <th>Loan_Approved</th>\n",
       "    </tr>\n",
       "  </thead>\n",
       "  <tbody>\n",
       "    <tr>\n",
       "      <th>0</th>\n",
       "      <td>1</td>\n",
       "      <td>25</td>\n",
       "      <td>30000</td>\n",
       "      <td>650</td>\n",
       "      <td>0</td>\n",
       "    </tr>\n",
       "    <tr>\n",
       "      <th>1</th>\n",
       "      <td>2</td>\n",
       "      <td>32</td>\n",
       "      <td>50000</td>\n",
       "      <td>700</td>\n",
       "      <td>0</td>\n",
       "    </tr>\n",
       "    <tr>\n",
       "      <th>2</th>\n",
       "      <td>3</td>\n",
       "      <td>45</td>\n",
       "      <td>80000</td>\n",
       "      <td>750</td>\n",
       "      <td>1</td>\n",
       "    </tr>\n",
       "    <tr>\n",
       "      <th>3</th>\n",
       "      <td>4</td>\n",
       "      <td>28</td>\n",
       "      <td>35000</td>\n",
       "      <td>600</td>\n",
       "      <td>0</td>\n",
       "    </tr>\n",
       "    <tr>\n",
       "      <th>4</th>\n",
       "      <td>5</td>\n",
       "      <td>50</td>\n",
       "      <td>120000</td>\n",
       "      <td>800</td>\n",
       "      <td>1</td>\n",
       "    </tr>\n",
       "  </tbody>\n",
       "</table>\n",
       "</div>"
      ],
      "text/plain": [
       "   ID  Age  Income  Credit_Score  Loan_Approved\n",
       "0   1   25   30000           650              0\n",
       "1   2   32   50000           700              0\n",
       "2   3   45   80000           750              1\n",
       "3   4   28   35000           600              0\n",
       "4   5   50  120000           800              1"
      ]
     },
     "execution_count": 235,
     "metadata": {},
     "output_type": "execute_result"
    }
   ],
   "source": [
    "df = pd.read_csv(\"C:/Users/Arjun/06_JN/loan_approved_data.csv\")\n",
    "df.head()"
   ]
  },
  {
   "cell_type": "markdown",
   "id": "1d7851a5-9f8a-4665-92bb-8ea44896aa31",
   "metadata": {},
   "source": [
    "02.Use random sampling of 10 samples with replacement from the dataset "
   ]
  },
  {
   "cell_type": "code",
   "execution_count": 237,
   "id": "7c7c64a3-b1f7-4ed4-b4ab-03e3c22ef822",
   "metadata": {},
   "outputs": [
    {
     "name": "stdout",
     "output_type": "stream",
     "text": [
      "Random sampling with replacement:\n",
      "     ID  Age  Income  Credit_Score  Loan_Approved\n",
      "16  17   30   45000           680              0\n",
      "16  17   30   45000           680              0\n",
      "3    4   28   35000           600              0\n",
      "7    8   38   65000           680              0\n",
      "10  11   27   32000           620              0\n",
      "14  15   26   31000           640              0\n",
      "10  11   27   32000           620              0\n",
      "3    4   28   35000           600              0\n",
      "1    2   32   50000           700              0\n",
      "7    8   38   65000           680              0\n"
     ]
    }
   ],
   "source": [
    "Random_sampling_with_replacement = df.sample(n=10, replace=True)\n",
    "print(\"Random sampling with replacement:\\n\", Random_sampling_with_replacement)"
   ]
  },
  {
   "cell_type": "markdown",
   "id": "7bbf7066-fe89-4327-a744-75d645be1566",
   "metadata": {},
   "source": [
    "03.Use random sampling of 5 samples without replacement from the dataset"
   ]
  },
  {
   "cell_type": "code",
   "execution_count": 239,
   "id": "37a22b8e-2789-4e1e-922a-642494ca51d0",
   "metadata": {},
   "outputs": [
    {
     "name": "stdout",
     "output_type": "stream",
     "text": [
      "Random sampling without replacement:\n",
      "     ID  Age  Income  Credit_Score  Loan_Approved\n",
      "16  17   30   45000           680              0\n",
      "0    1   25   30000           650              0\n",
      "8    9   48   90000           780              1\n",
      "17  18   36   62000           700              0\n",
      "10  11   27   32000           620              0\n"
     ]
    }
   ],
   "source": [
    "Random_sampling_without_replacement = df.sample(n=5, replace=False)\n",
    "print(\"Random sampling without replacement:\\n\", Random_sampling_without_replacement)"
   ]
  },
  {
   "cell_type": "markdown",
   "id": "9d78cd63-f41f-4770-9291-060dc7d48525",
   "metadata": {},
   "source": [
    "04.Use systematic sampling of every 4th element "
   ]
  },
  {
   "cell_type": "code",
   "execution_count": 241,
   "id": "b233e807-5439-47a1-ab76-a14561107eaa",
   "metadata": {},
   "outputs": [
    {
     "name": "stdout",
     "output_type": "stream",
     "text": [
      "Systematic sampling:\n",
      "     ID  Age  Income  Credit_Score  Loan_Approved\n",
      "0    1   25   30000           650              0\n",
      "4    5   50  120000           800              1\n",
      "8    9   48   90000           780              1\n",
      "12  13   35   60000           710              0\n",
      "16  17   30   45000           680              0\n"
     ]
    }
   ],
   "source": [
    "systematic_sample = df.iloc[::4]\n",
    "print(\"Systematic sampling:\\n\", systematic_sample)"
   ]
  },
  {
   "cell_type": "raw",
   "id": "69738ce5-b21b-4094-94eb-193cfabc49a9",
   "metadata": {},
   "source": [
    "05.Use clustered sampling where sample 2 data from the following categories"
   ]
  },
  {
   "cell_type": "markdown",
   "id": "1687f2dc-3526-454a-9bb4-8a68f7d1c3fc",
   "metadata": {},
   "source": [
    "(a).High cibil score (750 and above)"
   ]
  },
  {
   "cell_type": "code",
   "execution_count": 244,
   "id": "e02ccb46-32b2-4f07-a8b6-b008a0a8135c",
   "metadata": {},
   "outputs": [
    {
     "name": "stdout",
     "output_type": "stream",
     "text": [
      "Clustered sampling (High CIBIL):\n",
      "    ID  Age  Income  Credit_Score  Loan_Approved\n",
      "4   5   50  120000           800              1\n",
      "2   3   45   80000           750              1\n"
     ]
    }
   ],
   "source": [
    "high_cibil = df[df['Credit_Score'] >= 750]\n",
    "clustered_sample_high = high_cibil.sample(n=2, replace=False)\n",
    "print(\"Clustered sampling (High CIBIL):\\n\", clustered_sample_high)"
   ]
  },
  {
   "cell_type": "markdown",
   "id": "becafc65-8bc9-42b2-871c-597ad3a32d34",
   "metadata": {},
   "source": [
    "(b).Medium cibil score (650 to 749)"
   ]
  },
  {
   "cell_type": "code",
   "execution_count": 246,
   "id": "1e49a27f-592f-4b6a-8499-a7865ec7db7a",
   "metadata": {},
   "outputs": [
    {
     "name": "stdout",
     "output_type": "stream",
     "text": [
      "Clustered sampling (Medium CIBIL):\n",
      "    ID  Age  Income  Credit_Score  Loan_Approved\n",
      "0   1   25   30000           650              0\n",
      "6   7   33   55000           720              0\n"
     ]
    }
   ],
   "source": [
    "medium_cibil = df[(df['Credit_Score'] >= 650) & (df['Credit_Score'] < 750)]\n",
    "clustered_sample_medium = medium_cibil.sample(n=2, replace=False)\n",
    "print(\"Clustered sampling (Medium CIBIL):\\n\", clustered_sample_medium)"
   ]
  },
  {
   "cell_type": "markdown",
   "id": "b2de5674-801b-4aec-b3ec-23ea1bc26737",
   "metadata": {},
   "source": [
    "(c).Low cibil score (less than 650)"
   ]
  },
  {
   "cell_type": "code",
   "execution_count": 248,
   "id": "50900b00-aff2-4735-a739-4c85334eff3d",
   "metadata": {},
   "outputs": [
    {
     "name": "stdout",
     "output_type": "stream",
     "text": [
      "Clustered sampling (Low CIBIL):\n",
      "     ID  Age  Income  Credit_Score  Loan_Approved\n",
      "14  15   26   31000           640              0\n",
      "10  11   27   32000           620              0\n"
     ]
    }
   ],
   "source": [
    "low_cibil = df[df['Credit_Score'] < 650]\n",
    "clustered_sample_low = low_cibil.sample(n=2, replace=False)\n",
    "print(\"Clustered sampling (Low CIBIL):\\n\", clustered_sample_low)"
   ]
  },
  {
   "cell_type": "markdown",
   "id": "ced29a85-9d7b-40c4-8267-755a5ebcd906",
   "metadata": {},
   "source": [
    "06.From the dataset , it is clear the approval vs not approval of the loan follows the 70:30 ratio, which is an imbalance. \n",
    "Solve the imbalance using:"
   ]
  },
  {
   "cell_type": "code",
   "execution_count": 250,
   "id": "07202111-6d5e-4307-8392-3f3d3af9748c",
   "metadata": {},
   "outputs": [],
   "source": [
    "# Handling imbalance\n",
    "X = df.drop('Loan_Approved', axis=1)\n",
    "y = df['Loan_Approved']"
   ]
  },
  {
   "cell_type": "markdown",
   "id": "81169c1b-9230-4e71-bba4-2e4182993481",
   "metadata": {},
   "source": [
    "(a).Random oversampling"
   ]
  },
  {
   "cell_type": "code",
   "execution_count": 252,
   "id": "56dd2498-8226-4ee6-afbb-c75fb912e62b",
   "metadata": {},
   "outputs": [
    {
     "name": "stdout",
     "output_type": "stream",
     "text": [
      "Random oversampling:\n",
      " Loan_Approved\n",
      "0    14\n",
      "1    14\n",
      "Name: count, dtype: int64\n"
     ]
    }
   ],
   "source": [
    "ros = RandomOverSampler(random_state=42)\n",
    "X_resampled_ros, y_resampled_ros = ros.fit_resample(X, y)\n",
    "df_resampled_ros = pd.concat([X_resampled_ros, y_resampled_ros], axis=1)\n",
    "print(\"Random oversampling:\\n\", df_resampled_ros['Loan_Approved'].value_counts())"
   ]
  },
  {
   "cell_type": "markdown",
   "id": "7a1a5dd1-9625-4714-b5ae-8cc0ebab4c1f",
   "metadata": {},
   "source": [
    "(b).Random undersampling"
   ]
  },
  {
   "cell_type": "code",
   "execution_count": 254,
   "id": "a387c5c8-276a-47c7-8ec1-ac6bfc6ad909",
   "metadata": {},
   "outputs": [
    {
     "name": "stdout",
     "output_type": "stream",
     "text": [
      "Random undersampling:\n",
      " Loan_Approved\n",
      "0    6\n",
      "1    6\n",
      "Name: count, dtype: int64\n"
     ]
    }
   ],
   "source": [
    "rus = RandomUnderSampler(random_state=42)\n",
    "X_resampled_rus, y_resampled_rus = rus.fit_resample(X, y)\n",
    "df_resampled_rus = pd.concat([X_resampled_rus, y_resampled_rus], axis=1)\n",
    "print(\"Random undersampling:\\n\", df_resampled_rus['Loan_Approved'].value_counts())"
   ]
  },
  {
   "cell_type": "markdown",
   "id": "1ce1c698-08d1-4dd2-bf2f-27b76888444f",
   "metadata": {},
   "source": [
    "(c).SMOTE"
   ]
  },
  {
   "cell_type": "code",
   "execution_count": 256,
   "id": "db39e484-d533-4d5f-90bc-95f0f6611e04",
   "metadata": {},
   "outputs": [
    {
     "name": "stdout",
     "output_type": "stream",
     "text": [
      "SMOTE:\n",
      " Loan_Approved\n",
      "0    14\n",
      "1    14\n",
      "Name: count, dtype: int64\n"
     ]
    }
   ],
   "source": [
    "smote = SMOTE(random_state=42)\n",
    "X_resampled_smote, y_resampled_smote = smote.fit_resample(X, y)\n",
    "df_resampled_smote = pd.concat([X_resampled_smote, y_resampled_smote], axis=1)\n",
    "print(\"SMOTE:\\n\", df_resampled_smote['Loan_Approved'].value_counts())"
   ]
  }
 ],
 "metadata": {
  "kernelspec": {
   "display_name": "Python [conda env:base] *",
   "language": "python",
   "name": "conda-base-py"
  },
  "language_info": {
   "codemirror_mode": {
    "name": "ipython",
    "version": 3
   },
   "file_extension": ".py",
   "mimetype": "text/x-python",
   "name": "python",
   "nbconvert_exporter": "python",
   "pygments_lexer": "ipython3",
   "version": "3.12.7"
  }
 },
 "nbformat": 4,
 "nbformat_minor": 5
}
