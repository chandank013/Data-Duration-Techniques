{
 "cells": [
  {
   "cell_type": "code",
   "execution_count": 3,
   "id": "2eabb88f",
   "metadata": {},
   "outputs": [],
   "source": [
    " # Data\n",
    "age = [23, 23, 27, 27, 39, 41, 47, 49, 50, 52, 54, 54, 56, 57, 58, 58, 60, 61]\n",
    "fat = [9.5, 26.5, 7.8, 17.8, 31.4, 25.9, 27.4, 27.2, 31.2, 34.6, 42.5, 28.8, 33.4, 30.2, 34.1, 32.9, 41.2, 35.7]"
   ]
  },
  {
   "cell_type": "code",
   "execution_count": 4,
   "id": "fde689f6",
   "metadata": {},
   "outputs": [],
   "source": [
    "# Mean of data\n",
    "def mean(data):\n",
    "    return sum(data) / len(data)"
   ]
  },
  {
   "cell_type": "code",
   "execution_count": 5,
   "id": "74b8459e",
   "metadata": {},
   "outputs": [],
   "source": [
    "# Variance of the data\n",
    "def variance(data):\n",
    "    m = mean(data)\n",
    "    return sum((x- m) ** 2 for x in data) / len(data)"
   ]
  },
  {
   "cell_type": "code",
   "execution_count": 6,
   "id": "d66f68d2",
   "metadata": {},
   "outputs": [],
   "source": [
    " # Coariance of the data\n",
    "def covariance(data1, data2):\n",
    "    mean1 = mean(data1)\n",
    "    mean2 = mean(data2)\n",
    "    return sum((data1[i]- mean1) * (data2[i]- mean2) for i in range(len(data1))) / len(data1)"
   ]
  },
  {
   "cell_type": "code",
   "execution_count": 7,
   "id": "b56b2c23",
   "metadata": {},
   "outputs": [],
   "source": [
    "# Pearson Cofficient of data\n",
    "def pearson_correlation(data1, data2):\n",
    "    return covariance(data1, data2) / (variance(data1) ** 0.5 * variance(data2)**0.5)"
   ]
  },
  {
   "cell_type": "code",
   "execution_count": 8,
   "id": "307902e7",
   "metadata": {},
   "outputs": [],
   "source": [
    "# Calculations\n",
    "variance_age = variance(age)\n",
    "variance_fat = variance(fat)\n",
    "covariance_age_fat = covariance(age, fat)\n",
    "pearson_corr = pearson_correlation(age, fat)"
   ]
  },
  {
   "cell_type": "code",
   "execution_count": 9,
   "id": "511eba3e",
   "metadata": {},
   "outputs": [
    {
     "name": "stdout",
     "output_type": "stream",
     "text": [
      "Variance of Age: 165.02469135802468\n",
      "Variance of %Fat: 80.88583333333332\n",
      "Covariance: 94.46296296296296\n",
      "Pearson Correlation Coefficient: 0.8176187964565873\n"
     ]
    }
   ],
   "source": [
    " # All Outputs\n",
    "print(f\"Variance of Age: {variance_age}\")\n",
    "print(f\"Variance of %Fat: {variance_fat}\")\n",
    "print(f\"Covariance: {covariance_age_fat}\")\n",
    "print(f\"Pearson Correlation Coefficient: {pearson_corr}\")"
   ]
  }
 ],
 "metadata": {
  "kernelspec": {
   "display_name": "Python 3",
   "language": "python",
   "name": "python3"
  },
  "language_info": {
   "codemirror_mode": {
    "name": "ipython",
    "version": 3
   },
   "file_extension": ".py",
   "mimetype": "text/x-python",
   "name": "python",
   "nbconvert_exporter": "python",
   "pygments_lexer": "ipython3",
   "version": "3.13.0"
  }
 },
 "nbformat": 4,
 "nbformat_minor": 5
}
