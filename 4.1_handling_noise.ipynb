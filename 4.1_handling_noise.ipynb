{
 "cells": [
  {
   "cell_type": "code",
   "execution_count": 31,
   "id": "60cdb40b-8bfb-4c71-9b06-b6d427c2b3fe",
   "metadata": {},
   "outputs": [
    {
     "data": {
      "text/html": [
       "<div>\n",
       "<style scoped>\n",
       "    .dataframe tbody tr th:only-of-type {\n",
       "        vertical-align: middle;\n",
       "    }\n",
       "\n",
       "    .dataframe tbody tr th {\n",
       "        vertical-align: top;\n",
       "    }\n",
       "\n",
       "    .dataframe thead th {\n",
       "        text-align: right;\n",
       "    }\n",
       "</style>\n",
       "<table border=\"1\" class=\"dataframe\">\n",
       "  <thead>\n",
       "    <tr style=\"text-align: right;\">\n",
       "      <th></th>\n",
       "      <th>Unnamed: 0</th>\n",
       "      <th>SR. NO.</th>\n",
       "      <th>TEAM</th>\n",
       "      <th>FUNDS REMAINING</th>\n",
       "      <th>OVERSEAS PLAYERS</th>\n",
       "      <th>TOTAL PLAYERS</th>\n",
       "    </tr>\n",
       "  </thead>\n",
       "  <tbody>\n",
       "    <tr>\n",
       "      <th>0</th>\n",
       "      <td>0</td>\n",
       "      <td>1</td>\n",
       "      <td>Chennai Super King</td>\n",
       "      <td>29500000</td>\n",
       "      <td>8</td>\n",
       "      <td>25</td>\n",
       "    </tr>\n",
       "    <tr>\n",
       "      <th>1</th>\n",
       "      <td>1</td>\n",
       "      <td>2</td>\n",
       "      <td>Delhi Capitals</td>\n",
       "      <td>1000000</td>\n",
       "      <td>7</td>\n",
       "      <td>24</td>\n",
       "    </tr>\n",
       "    <tr>\n",
       "      <th>2</th>\n",
       "      <td>2</td>\n",
       "      <td>3</td>\n",
       "      <td>Gujrat Titans</td>\n",
       "      <td>1500000</td>\n",
       "      <td>8</td>\n",
       "      <td>23</td>\n",
       "    </tr>\n",
       "    <tr>\n",
       "      <th>3</th>\n",
       "      <td>3</td>\n",
       "      <td>4</td>\n",
       "      <td>Kolkata Knight Riders</td>\n",
       "      <td>4500000</td>\n",
       "      <td>8</td>\n",
       "      <td>25</td>\n",
       "    </tr>\n",
       "    <tr>\n",
       "      <th>4</th>\n",
       "      <td>4</td>\n",
       "      <td>5</td>\n",
       "      <td>Lucknow Super Gaints</td>\n",
       "      <td>0</td>\n",
       "      <td>7</td>\n",
       "      <td>28</td>\n",
       "    </tr>\n",
       "  </tbody>\n",
       "</table>\n",
       "</div>"
      ],
      "text/plain": [
       "   Unnamed: 0  SR. NO.                   TEAM  FUNDS REMAINING  \\\n",
       "0           0        1     Chennai Super King         29500000   \n",
       "1           1        2         Delhi Capitals          1000000   \n",
       "2           2        3          Gujrat Titans          1500000   \n",
       "3           3        4  Kolkata Knight Riders          4500000   \n",
       "4           4        5   Lucknow Super Gaints                0   \n",
       "\n",
       "   OVERSEAS PLAYERS   TOTAL PLAYERS  \n",
       "0                  8             25  \n",
       "1                  7             24  \n",
       "2                  8             23  \n",
       "3                  8             25  \n",
       "4                  7             28  "
      ]
     },
     "execution_count": 31,
     "metadata": {},
     "output_type": "execute_result"
    }
   ],
   "source": [
    "# first download and import pandas and numpy using pip installer\n",
    "import pandas as pd\n",
    "import numpy as np\n",
    "auction=pd.read_csv(\"C:/Users/Arjun/06_JN/ipl auction stats__static.csv\")\n",
    "#view the CSV file\n",
    "auction.head()"
   ]
  },
  {
   "cell_type": "code",
   "execution_count": 32,
   "id": "41fb57f1-dca5-445b-a64e-56d42b873926",
   "metadata": {},
   "outputs": [
    {
     "name": "stdout",
     "output_type": "stream",
     "text": [
      "22\n",
      "28\n",
      "TOTAL PLAYERS\n",
      "25    4\n",
      "24    2\n",
      "23    2\n",
      "28    1\n",
      "22    1\n",
      "Name: count, dtype: int64\n"
     ]
    }
   ],
   "source": [
    "#Focus on the 'TOTAL PLAYERS' column for binning \n",
    "total_players = auction['TOTAL PLAYERS']\n",
    "print(min(total_players))\n",
    "print(max(total_players))\n",
    "print(total_players.value_counts())"
   ]
  },
  {
   "cell_type": "markdown",
   "id": "1f0d9c90-73ca-4977-a7ad-f0296c56b788",
   "metadata": {},
   "source": [
    "1. Equal Width Binning"
   ]
  },
  {
   "cell_type": "code",
   "execution_count": 34,
   "id": "059bcbc1-69e7-4c83-baa5-fadcdecc16c9",
   "metadata": {},
   "outputs": [
    {
     "name": "stdout",
     "output_type": "stream",
     "text": [
      "Equal Width Bins:\n",
      "total_players_Equal_Width_Bins\n",
      "LOW_TEAM    5\n",
      "AVG_TEAM    4\n",
      "TOP_TEAM    1\n",
      "Name: count, dtype: int64\n"
     ]
    }
   ],
   "source": [
    "\n",
    "# Divide total_players into bins of equal width\n",
    "num_bins_equal_width = 3\n",
    "#total_players_equal_width_bins = pd.cut(total_players, bins=num_bins_equal_width)\n",
    "bin_labels = [ \"LOW_TEAM\", \"AVG_TEAM\",\"TOP_TEAM\"]\n",
    "total_players_equal_width_bins = pd.cut(total_players, bins=num_bins_equal_width, labels=bin_labels)\n",
    "\n",
    "\n",
    "# Add the binned data to the ipl_auction dataset\n",
    "auction['total_players_Equal_Width_Bins'] = total_players_equal_width_bins\n",
    "\n",
    "\n",
    "# Display the binned data\n",
    "print(\"Equal Width Bins:\")\n",
    "print(auction['total_players_Equal_Width_Bins'].value_counts())"
   ]
  },
  {
   "cell_type": "markdown",
   "id": "c710754d-abc8-49d0-b9f4-da9efbb30d46",
   "metadata": {},
   "source": [
    "View the dataset after modifying"
   ]
  },
  {
   "cell_type": "code",
   "execution_count": 36,
   "id": "5f92ea13-b2ee-4d17-a035-de0d1561f034",
   "metadata": {},
   "outputs": [
    {
     "data": {
      "text/html": [
       "<div>\n",
       "<style scoped>\n",
       "    .dataframe tbody tr th:only-of-type {\n",
       "        vertical-align: middle;\n",
       "    }\n",
       "\n",
       "    .dataframe tbody tr th {\n",
       "        vertical-align: top;\n",
       "    }\n",
       "\n",
       "    .dataframe thead th {\n",
       "        text-align: right;\n",
       "    }\n",
       "</style>\n",
       "<table border=\"1\" class=\"dataframe\">\n",
       "  <thead>\n",
       "    <tr style=\"text-align: right;\">\n",
       "      <th></th>\n",
       "      <th>Unnamed: 0</th>\n",
       "      <th>SR. NO.</th>\n",
       "      <th>TEAM</th>\n",
       "      <th>FUNDS REMAINING</th>\n",
       "      <th>OVERSEAS PLAYERS</th>\n",
       "      <th>TOTAL PLAYERS</th>\n",
       "      <th>total_players_Equal_Width_Bins</th>\n",
       "    </tr>\n",
       "  </thead>\n",
       "  <tbody>\n",
       "    <tr>\n",
       "      <th>0</th>\n",
       "      <td>0</td>\n",
       "      <td>1</td>\n",
       "      <td>Chennai Super King</td>\n",
       "      <td>29500000</td>\n",
       "      <td>8</td>\n",
       "      <td>25</td>\n",
       "      <td>AVG_TEAM</td>\n",
       "    </tr>\n",
       "    <tr>\n",
       "      <th>1</th>\n",
       "      <td>1</td>\n",
       "      <td>2</td>\n",
       "      <td>Delhi Capitals</td>\n",
       "      <td>1000000</td>\n",
       "      <td>7</td>\n",
       "      <td>24</td>\n",
       "      <td>LOW_TEAM</td>\n",
       "    </tr>\n",
       "    <tr>\n",
       "      <th>2</th>\n",
       "      <td>2</td>\n",
       "      <td>3</td>\n",
       "      <td>Gujrat Titans</td>\n",
       "      <td>1500000</td>\n",
       "      <td>8</td>\n",
       "      <td>23</td>\n",
       "      <td>LOW_TEAM</td>\n",
       "    </tr>\n",
       "    <tr>\n",
       "      <th>3</th>\n",
       "      <td>3</td>\n",
       "      <td>4</td>\n",
       "      <td>Kolkata Knight Riders</td>\n",
       "      <td>4500000</td>\n",
       "      <td>8</td>\n",
       "      <td>25</td>\n",
       "      <td>AVG_TEAM</td>\n",
       "    </tr>\n",
       "    <tr>\n",
       "      <th>4</th>\n",
       "      <td>4</td>\n",
       "      <td>5</td>\n",
       "      <td>Lucknow Super Gaints</td>\n",
       "      <td>0</td>\n",
       "      <td>7</td>\n",
       "      <td>28</td>\n",
       "      <td>TOP_TEAM</td>\n",
       "    </tr>\n",
       "    <tr>\n",
       "      <th>5</th>\n",
       "      <td>5</td>\n",
       "      <td>6</td>\n",
       "      <td>Mumbai Indians</td>\n",
       "      <td>1000000</td>\n",
       "      <td>8</td>\n",
       "      <td>25</td>\n",
       "      <td>AVG_TEAM</td>\n",
       "    </tr>\n",
       "    <tr>\n",
       "      <th>6</th>\n",
       "      <td>6</td>\n",
       "      <td>7</td>\n",
       "      <td>Punjab Kings</td>\n",
       "      <td>3450000</td>\n",
       "      <td>7</td>\n",
       "      <td>25</td>\n",
       "      <td>AVG_TEAM</td>\n",
       "    </tr>\n",
       "    <tr>\n",
       "      <th>7</th>\n",
       "      <td>7</td>\n",
       "      <td>8</td>\n",
       "      <td>Rajasthan Royals</td>\n",
       "      <td>9500000</td>\n",
       "      <td>8</td>\n",
       "      <td>24</td>\n",
       "      <td>LOW_TEAM</td>\n",
       "    </tr>\n",
       "    <tr>\n",
       "      <th>8</th>\n",
       "      <td>8</td>\n",
       "      <td>9</td>\n",
       "      <td>Royal Challengers Bangloro</td>\n",
       "      <td>1550000</td>\n",
       "      <td>8</td>\n",
       "      <td>22</td>\n",
       "      <td>LOW_TEAM</td>\n",
       "    </tr>\n",
       "    <tr>\n",
       "      <th>9</th>\n",
       "      <td>9</td>\n",
       "      <td>10</td>\n",
       "      <td>Sunrisers Hydrabad</td>\n",
       "      <td>10000000</td>\n",
       "      <td>8</td>\n",
       "      <td>23</td>\n",
       "      <td>LOW_TEAM</td>\n",
       "    </tr>\n",
       "  </tbody>\n",
       "</table>\n",
       "</div>"
      ],
      "text/plain": [
       "   Unnamed: 0  SR. NO.                        TEAM  FUNDS REMAINING  \\\n",
       "0           0        1          Chennai Super King         29500000   \n",
       "1           1        2              Delhi Capitals          1000000   \n",
       "2           2        3               Gujrat Titans          1500000   \n",
       "3           3        4       Kolkata Knight Riders          4500000   \n",
       "4           4        5        Lucknow Super Gaints                0   \n",
       "5           5        6              Mumbai Indians          1000000   \n",
       "6           6        7                Punjab Kings          3450000   \n",
       "7           7        8            Rajasthan Royals          9500000   \n",
       "8           8        9  Royal Challengers Bangloro          1550000   \n",
       "9           9       10          Sunrisers Hydrabad         10000000   \n",
       "\n",
       "   OVERSEAS PLAYERS   TOTAL PLAYERS total_players_Equal_Width_Bins  \n",
       "0                  8             25                       AVG_TEAM  \n",
       "1                  7             24                       LOW_TEAM  \n",
       "2                  8             23                       LOW_TEAM  \n",
       "3                  8             25                       AVG_TEAM  \n",
       "4                  7             28                       TOP_TEAM  \n",
       "5                  8             25                       AVG_TEAM  \n",
       "6                  7             25                       AVG_TEAM  \n",
       "7                  8             24                       LOW_TEAM  \n",
       "8                  8             22                       LOW_TEAM  \n",
       "9                  8             23                       LOW_TEAM  "
      ]
     },
     "execution_count": 36,
     "metadata": {},
     "output_type": "execute_result"
    }
   ],
   "source": [
    "auction"
   ]
  },
  {
   "cell_type": "markdown",
   "id": "d8f2ef44-9e59-4dd5-ab70-2b78a2d0c262",
   "metadata": {},
   "source": [
    "2. Equal Frequency Binning"
   ]
  },
  {
   "cell_type": "code",
   "execution_count": 38,
   "id": "4b3882e1-2c39-4eec-908e-07498ad4c216",
   "metadata": {},
   "outputs": [
    {
     "name": "stdout",
     "output_type": "stream",
     "text": [
      "\n",
      "Equal Frequency Bins:\n",
      "total_players_Equal_Frequency_Bins\n",
      "(21.999, 24.0]    5\n",
      "(24.0, 25.0]      4\n",
      "(25.0, 28.0]      1\n",
      "Name: count, dtype: int64\n"
     ]
    }
   ],
   "source": [
    "# Divide age into bins with equal frequency\n",
    "num_bins_equal_frequency = 3\n",
    "total_players_equal_frequency_bins = pd.qcut(total_players, q=num_bins_equal_frequency, duplicates='drop')\n",
    "\n",
    "auction['total_players_Equal_Frequency_Bins'] = total_players_equal_frequency_bins\n",
    "\n",
    "print(\"\\nEqual Frequency Bins:\")\n",
    "print(auction['total_players_Equal_Frequency_Bins'].value_counts())"
   ]
  },
  {
   "cell_type": "code",
   "execution_count": 39,
   "id": "005736c9-1cef-4e67-969f-ba7dd52eddce",
   "metadata": {},
   "outputs": [
    {
     "data": {
      "text/html": [
       "<div>\n",
       "<style scoped>\n",
       "    .dataframe tbody tr th:only-of-type {\n",
       "        vertical-align: middle;\n",
       "    }\n",
       "\n",
       "    .dataframe tbody tr th {\n",
       "        vertical-align: top;\n",
       "    }\n",
       "\n",
       "    .dataframe thead th {\n",
       "        text-align: right;\n",
       "    }\n",
       "</style>\n",
       "<table border=\"1\" class=\"dataframe\">\n",
       "  <thead>\n",
       "    <tr style=\"text-align: right;\">\n",
       "      <th></th>\n",
       "      <th>Unnamed: 0</th>\n",
       "      <th>SR. NO.</th>\n",
       "      <th>TEAM</th>\n",
       "      <th>FUNDS REMAINING</th>\n",
       "      <th>OVERSEAS PLAYERS</th>\n",
       "      <th>TOTAL PLAYERS</th>\n",
       "      <th>total_players_Equal_Width_Bins</th>\n",
       "      <th>total_players_Equal_Frequency_Bins</th>\n",
       "    </tr>\n",
       "  </thead>\n",
       "  <tbody>\n",
       "    <tr>\n",
       "      <th>0</th>\n",
       "      <td>0</td>\n",
       "      <td>1</td>\n",
       "      <td>Chennai Super King</td>\n",
       "      <td>29500000</td>\n",
       "      <td>8</td>\n",
       "      <td>25</td>\n",
       "      <td>AVG_TEAM</td>\n",
       "      <td>(24.0, 25.0]</td>\n",
       "    </tr>\n",
       "    <tr>\n",
       "      <th>1</th>\n",
       "      <td>1</td>\n",
       "      <td>2</td>\n",
       "      <td>Delhi Capitals</td>\n",
       "      <td>1000000</td>\n",
       "      <td>7</td>\n",
       "      <td>24</td>\n",
       "      <td>LOW_TEAM</td>\n",
       "      <td>(21.999, 24.0]</td>\n",
       "    </tr>\n",
       "    <tr>\n",
       "      <th>2</th>\n",
       "      <td>2</td>\n",
       "      <td>3</td>\n",
       "      <td>Gujrat Titans</td>\n",
       "      <td>1500000</td>\n",
       "      <td>8</td>\n",
       "      <td>23</td>\n",
       "      <td>LOW_TEAM</td>\n",
       "      <td>(21.999, 24.0]</td>\n",
       "    </tr>\n",
       "    <tr>\n",
       "      <th>3</th>\n",
       "      <td>3</td>\n",
       "      <td>4</td>\n",
       "      <td>Kolkata Knight Riders</td>\n",
       "      <td>4500000</td>\n",
       "      <td>8</td>\n",
       "      <td>25</td>\n",
       "      <td>AVG_TEAM</td>\n",
       "      <td>(24.0, 25.0]</td>\n",
       "    </tr>\n",
       "    <tr>\n",
       "      <th>4</th>\n",
       "      <td>4</td>\n",
       "      <td>5</td>\n",
       "      <td>Lucknow Super Gaints</td>\n",
       "      <td>0</td>\n",
       "      <td>7</td>\n",
       "      <td>28</td>\n",
       "      <td>TOP_TEAM</td>\n",
       "      <td>(25.0, 28.0]</td>\n",
       "    </tr>\n",
       "    <tr>\n",
       "      <th>5</th>\n",
       "      <td>5</td>\n",
       "      <td>6</td>\n",
       "      <td>Mumbai Indians</td>\n",
       "      <td>1000000</td>\n",
       "      <td>8</td>\n",
       "      <td>25</td>\n",
       "      <td>AVG_TEAM</td>\n",
       "      <td>(24.0, 25.0]</td>\n",
       "    </tr>\n",
       "    <tr>\n",
       "      <th>6</th>\n",
       "      <td>6</td>\n",
       "      <td>7</td>\n",
       "      <td>Punjab Kings</td>\n",
       "      <td>3450000</td>\n",
       "      <td>7</td>\n",
       "      <td>25</td>\n",
       "      <td>AVG_TEAM</td>\n",
       "      <td>(24.0, 25.0]</td>\n",
       "    </tr>\n",
       "    <tr>\n",
       "      <th>7</th>\n",
       "      <td>7</td>\n",
       "      <td>8</td>\n",
       "      <td>Rajasthan Royals</td>\n",
       "      <td>9500000</td>\n",
       "      <td>8</td>\n",
       "      <td>24</td>\n",
       "      <td>LOW_TEAM</td>\n",
       "      <td>(21.999, 24.0]</td>\n",
       "    </tr>\n",
       "    <tr>\n",
       "      <th>8</th>\n",
       "      <td>8</td>\n",
       "      <td>9</td>\n",
       "      <td>Royal Challengers Bangloro</td>\n",
       "      <td>1550000</td>\n",
       "      <td>8</td>\n",
       "      <td>22</td>\n",
       "      <td>LOW_TEAM</td>\n",
       "      <td>(21.999, 24.0]</td>\n",
       "    </tr>\n",
       "    <tr>\n",
       "      <th>9</th>\n",
       "      <td>9</td>\n",
       "      <td>10</td>\n",
       "      <td>Sunrisers Hydrabad</td>\n",
       "      <td>10000000</td>\n",
       "      <td>8</td>\n",
       "      <td>23</td>\n",
       "      <td>LOW_TEAM</td>\n",
       "      <td>(21.999, 24.0]</td>\n",
       "    </tr>\n",
       "  </tbody>\n",
       "</table>\n",
       "</div>"
      ],
      "text/plain": [
       "   Unnamed: 0  SR. NO.                        TEAM  FUNDS REMAINING  \\\n",
       "0           0        1          Chennai Super King         29500000   \n",
       "1           1        2              Delhi Capitals          1000000   \n",
       "2           2        3               Gujrat Titans          1500000   \n",
       "3           3        4       Kolkata Knight Riders          4500000   \n",
       "4           4        5        Lucknow Super Gaints                0   \n",
       "5           5        6              Mumbai Indians          1000000   \n",
       "6           6        7                Punjab Kings          3450000   \n",
       "7           7        8            Rajasthan Royals          9500000   \n",
       "8           8        9  Royal Challengers Bangloro          1550000   \n",
       "9           9       10          Sunrisers Hydrabad         10000000   \n",
       "\n",
       "   OVERSEAS PLAYERS   TOTAL PLAYERS total_players_Equal_Width_Bins  \\\n",
       "0                  8             25                       AVG_TEAM   \n",
       "1                  7             24                       LOW_TEAM   \n",
       "2                  8             23                       LOW_TEAM   \n",
       "3                  8             25                       AVG_TEAM   \n",
       "4                  7             28                       TOP_TEAM   \n",
       "5                  8             25                       AVG_TEAM   \n",
       "6                  7             25                       AVG_TEAM   \n",
       "7                  8             24                       LOW_TEAM   \n",
       "8                  8             22                       LOW_TEAM   \n",
       "9                  8             23                       LOW_TEAM   \n",
       "\n",
       "  total_players_Equal_Frequency_Bins  \n",
       "0                       (24.0, 25.0]  \n",
       "1                     (21.999, 24.0]  \n",
       "2                     (21.999, 24.0]  \n",
       "3                       (24.0, 25.0]  \n",
       "4                       (25.0, 28.0]  \n",
       "5                       (24.0, 25.0]  \n",
       "6                       (24.0, 25.0]  \n",
       "7                     (21.999, 24.0]  \n",
       "8                     (21.999, 24.0]  \n",
       "9                     (21.999, 24.0]  "
      ]
     },
     "execution_count": 39,
     "metadata": {},
     "output_type": "execute_result"
    }
   ],
   "source": [
    "auction"
   ]
  },
  {
   "cell_type": "code",
   "execution_count": 40,
   "id": "caa4a6cd-3b5d-4e92-8f62-9cbf9a1d31a8",
   "metadata": {},
   "outputs": [
    {
     "name": "stdout",
     "output_type": "stream",
     "text": [
      "23.25\n",
      "25.0\n"
     ]
    }
   ],
   "source": [
    "import pandas as pd \n",
    "import numpy as np              \n",
    "\n",
    "total_players = auction['TOTAL PLAYERS']\n",
    "\n",
    "Q1 = np.percentile(total_players,25)\n",
    "Q3 = np.percentile(total_players,75)\n",
    "print(Q1)\n",
    "print(Q3)"
   ]
  },
  {
   "cell_type": "code",
   "execution_count": 41,
   "id": "a0d6bbfb-d701-4dcb-9ec5-686c208e48c2",
   "metadata": {},
   "outputs": [
    {
     "name": "stdout",
     "output_type": "stream",
     "text": [
      "1.75\n"
     ]
    }
   ],
   "source": [
    "IQR = Q3 - Q1\n",
    "print(IQR)"
   ]
  },
  {
   "cell_type": "code",
   "execution_count": 42,
   "id": "4b0833d4-5dea-4d0f-bb3a-db6ac8aa44d1",
   "metadata": {},
   "outputs": [
    {
     "name": "stdout",
     "output_type": "stream",
     "text": [
      "20.625\n",
      "27.625\n"
     ]
    }
   ],
   "source": [
    "lower_bound = Q1 - 1.5 * IQR\n",
    "upper_bound = Q3 + 1.5 * IQR\n",
    "print(lower_bound)\n",
    "print(upper_bound)"
   ]
  },
  {
   "cell_type": "code",
   "execution_count": 43,
   "id": "cdbc876b-0820-4a6a-bee4-fbc97a36b8a2",
   "metadata": {},
   "outputs": [
    {
     "name": "stdout",
     "output_type": "stream",
     "text": [
      "28\n"
     ]
    }
   ],
   "source": [
    "for x in total_players:\n",
    "    if x < lower_bound or x > upper_bound:\n",
    "        print(x)"
   ]
  },
  {
   "cell_type": "code",
   "execution_count": 44,
   "id": "f499fa8d-f3a0-473f-ab74-9f8ad1a2a26f",
   "metadata": {},
   "outputs": [
    {
     "data": {
      "text/plain": [
       "<Axes: ylabel='TOTAL PLAYERS'>"
      ]
     },
     "execution_count": 44,
     "metadata": {},
     "output_type": "execute_result"
    },
    {
     "data": {
      "image/png": "[encoded data removed]",
      "text/plain": [
       "<Figure size 640x480 with 1 Axes>"
      ]
     },
     "metadata": {},
     "output_type": "display_data"
    }
   ],
   "source": [
    "import seaborn as sns\n",
    "sns.boxplot(total_players)"
   ]
  },
  {
   "cell_type": "code",
   "execution_count": 45,
   "id": "6de30c70-73be-4a6b-b8d5-e0549de36001",
   "metadata": {},
   "outputs": [
    {
     "data": {
      "text/plain": [
       "<Axes: xlabel='TOTAL PLAYERS', ylabel='Count'>"
      ]
     },
     "execution_count": 45,
     "metadata": {},
     "output_type": "execute_result"
    },
    {
     "data": {
      "image/png": "[encoded data removed]",
      "text/plain": [
       "<Figure size 640x480 with 1 Axes>"
      ]
     },
     "metadata": {},
     "output_type": "display_data"
    }
   ],
   "source": [
    "sns.histplot(total_players)"
   ]
  },
  {
   "cell_type": "code",
   "execution_count": 46,
   "id": "9399657b-9caa-4abb-9c7f-761d30e9cc8e",
   "metadata": {},
   "outputs": [
    {
     "data": {
      "text/plain": [
       "<Axes: xlabel='FUNDS REMAINING'>"
      ]
     },
     "execution_count": 46,
     "metadata": {},
     "output_type": "execute_result"
    },
    {
     "data": {
      "image/png": "[encoded data removed]",
      "text/plain": [
       "<Figure size 640x480 with 1 Axes>"
      ]
     },
     "metadata": {},
     "output_type": "display_data"
    }
   ],
   "source": [
    "total_players = auction['TOTAL PLAYERS']\n",
    "fund_invested =auction['FUNDS REMAINING']\n",
    "df = pd.DataFrame(total_players,fund_invested)\n",
    "sns.scatterplot(df)"
   ]
  },
  {
   "cell_type": "code",
   "execution_count": null,
   "id": "bdba1e16-062a-4dc5-8e75-1387ab214b37",
   "metadata": {},
   "outputs": [],
   "source": []
  }
 ],
 "metadata": {
  "kernelspec": {
   "display_name": "Python [conda env:base] *",
   "language": "python",
   "name": "conda-base-py"
  },
  "language_info": {
   "codemirror_mode": {
    "name": "ipython",
    "version": 3
   },
   "file_extension": ".py",
   "mimetype": "text/x-python",
   "name": "python",
   "nbconvert_exporter": "python",
   "pygments_lexer": "ipython3",
   "version": "3.12.7"
  }
 },
 "nbformat": 4,
 "nbformat_minor": 5
}
