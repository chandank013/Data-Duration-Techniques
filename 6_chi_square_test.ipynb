{
 "cells": [
  {
   "cell_type": "markdown",
   "id": "a2a7c4b5-0202-4746-bba0-a5e92e8b4878",
   "metadata": {},
   "source": [
    "           Program 1       Program 2      Current Program      Total\n",
    "#Passed    112             94             130                   336\n",
    "#failed    60              79             85                    224 \n",
    "#Total     172             173            215                   560"
   ]
  },
  {
   "cell_type": "code",
   "execution_count": 2,
   "id": "5499ed35-661e-4a66-8fc1-f62ac321ef88",
   "metadata": {},
   "outputs": [],
   "source": [
    "import numpy as np\n",
    "import pandas as pd"
   ]
  },
  {
   "cell_type": "code",
   "execution_count": 3,
   "id": "a63a2f8d-f371-446a-9744-7648c49099d7",
   "metadata": {},
   "outputs": [
    {
     "name": "stdout",
     "output_type": "stream",
     "text": [
      "Observed values:\n",
      "[[112  94 130]\n",
      " [ 60  79  85]]\n"
     ]
    }
   ],
   "source": [
    "# Observed values\n",
    "observed = np.array([[112, 94, 130], [60, 79, 85]])\n",
    "print(\"Observed values:\")\n",
    "print(observed)\n"
   ]
  },
  {
   "cell_type": "code",
   "execution_count": 4,
   "id": "4c40c722-e246-44fa-87a1-0bad2977e717",
   "metadata": {},
   "outputs": [],
   "source": [
    "# Calculate total sum of observed values\n",
    "total = np.sum(observed)"
   ]
  },
  {
   "cell_type": "code",
   "execution_count": 5,
   "id": "35bf19a9-f37c-4996-85f1-d89934c07ae5",
   "metadata": {},
   "outputs": [
    {
     "name": "stdout",
     "output_type": "stream",
     "text": [
      "Expected values:\n",
      "[[103.2 103.8 129. ]\n",
      " [ 68.8  69.2  86. ]]\n"
     ]
    }
   ],
   "source": [
    "# Calculate expected values\n",
    "expected = np.outer((np.sum(observed, axis=1) / total), np.sum(observed, axis=0))\n",
    "print(\"Expected values:\")\n",
    "print(expected)"
   ]
  },
  {
   "cell_type": "code",
   "execution_count": 6,
   "id": "071fc791-dd30-4812-9c2a-072bcfcea0c1",
   "metadata": {},
   "outputs": [
    {
     "name": "stdout",
     "output_type": "stream",
     "text": [
      "Chi square value:\n",
      "4.208450956669801\n"
     ]
    }
   ],
   "source": [
    "# Calculate chi square value\n",
    "chi_square = np.sum((observed - expected) ** 2 / expected)\n",
    "print(\"Chi square value:\")\n",
    "print(chi_square)"
   ]
  },
  {
   "cell_type": "code",
   "execution_count": 7,
   "id": "0c1a6241-792a-4c23-911a-bd63488b5522",
   "metadata": {},
   "outputs": [
    {
     "name": "stdout",
     "output_type": "stream",
     "text": [
      "Degree of freedom:\n",
      "2\n"
     ]
    }
   ],
   "source": [
    "# Calculate degree of freedom\n",
    "# Degree of freedom is calculated as (number of rows - 1) * (number of columns - 1)\n",
    "degree_of_freedom = (len(observed) - 1) * (len(observed[0]) - 1)\n",
    "print(\"Degree of freedom:\")\n",
    "print(degree_of_freedom)"
   ]
  },
  {
   "cell_type": "code",
   "execution_count": 8,
   "id": "bd527282-e3ab-4041-9b91-1677ce1f16b9",
   "metadata": {},
   "outputs": [],
   "source": [
    "# Define significance level (alpha)\n",
    "alpha = 0.05"
   ]
  },
  {
   "cell_type": "code",
   "execution_count": 9,
   "id": "fb9ca656-f4eb-44e9-89ea-38197ddc4865",
   "metadata": {},
   "outputs": [
    {
     "name": "stdout",
     "output_type": "stream",
     "text": [
      "Critical value:\n",
      "16.92\n"
     ]
    }
   ],
   "source": [
    "# Critical value for chi square test at 0.05 significance level and calculated degree of freedom\n",
    "critical_value = 16.92\n",
    "print(\"Critical value:\")\n",
    "print(critical_value)"
   ]
  },
  {
   "cell_type": "code",
   "execution_count": 10,
   "id": "3339c84e-8bbe-42d6-9a4c-1090d5350a79",
   "metadata": {},
   "outputs": [
    {
     "name": "stdout",
     "output_type": "stream",
     "text": [
      "Accept null hypothesis\n"
     ]
    }
   ],
   "source": [
    "# Compare chi square value with critical value to determine whether to reject the null hypothesis\n",
    "if chi_square > critical_value:\n",
    "    print(\"Reject null hypothesis\")\n",
    "else:\n",
    "    print(\"Accept null hypothesis\")"
   ]
  },
  {
   "cell_type": "code",
   "execution_count": 11,
   "id": "7070168f-348d-4ea2-ba69-cdc8e866ee42",
   "metadata": {},
   "outputs": [
    {
     "name": "stdout",
     "output_type": "stream",
     "text": [
      "P value:\n",
      "0.050000000000000044\n"
     ]
    }
   ],
   "source": [
    "# Calculate p value\n",
    "p_value = 1 - 0.95\n",
    "print(\"P value:\")\n",
    "print(p_value)\n"
   ]
  },
  {
   "cell_type": "code",
   "execution_count": 12,
   "id": "084e6c49-7665-49fa-9a75-b42e6a31697f",
   "metadata": {},
   "outputs": [
    {
     "name": "stdout",
     "output_type": "stream",
     "text": [
      "Accept null hypothesis\n"
     ]
    }
   ],
   "source": [
    "# Compare p value with alpha to determine whether to reject the null hypothesis\n",
    "if p_value < alpha:\n",
    "    print(\"Reject null hypothesis\")\n",
    "else:\n",
    "    print(\"Accept null hypothesis\")"
   ]
  }
 ],
 "metadata": {
  "kernelspec": {
   "display_name": "Python [conda env:base] *",
   "language": "python",
   "name": "conda-base-py"
  },
  "language_info": {
   "codemirror_mode": {
    "name": "ipython",
    "version": 3
   },
   "file_extension": ".py",
   "mimetype": "text/x-python",
   "name": "python",
   "nbconvert_exporter": "python",
   "pygments_lexer": "ipython3",
   "version": "3.12.7"
  }
 },
 "nbformat": 4,
 "nbformat_minor": 5
}
