{
 "cells": [
  {
   "cell_type": "markdown",
   "metadata": {},
   "source": [
    "1. Read the dataset"
   ]
  },
  {
   "cell_type": "code",
   "execution_count": 29,
   "metadata": {},
   "outputs": [
    {
     "data": {
      "text/html": [
       "<div>\n",
       "<style scoped>\n",
       "    .dataframe tbody tr th:only-of-type {\n",
       "        vertical-align: middle;\n",
       "    }\n",
       "\n",
       "    .dataframe tbody tr th {\n",
       "        vertical-align: top;\n",
       "    }\n",
       "\n",
       "    .dataframe thead th {\n",
       "        text-align: right;\n",
       "    }\n",
       "</style>\n",
       "<table border=\"1\" class=\"dataframe\">\n",
       "  <thead>\n",
       "    <tr style=\"text-align: right;\">\n",
       "      <th></th>\n",
       "      <th>Unnamed: 0</th>\n",
       "      <th>SR. NO.</th>\n",
       "      <th>TEAM</th>\n",
       "      <th>FUNDS REMAINING</th>\n",
       "      <th>OVERSEAS PLAYERS</th>\n",
       "      <th>TOTAL PLAYERS</th>\n",
       "      <th>RATING</th>\n",
       "    </tr>\n",
       "  </thead>\n",
       "  <tbody>\n",
       "    <tr>\n",
       "      <th>0</th>\n",
       "      <td>0</td>\n",
       "      <td>1</td>\n",
       "      <td>Chennai Super King</td>\n",
       "      <td>29500000</td>\n",
       "      <td>8</td>\n",
       "      <td>25.0</td>\n",
       "      <td>NaN</td>\n",
       "    </tr>\n",
       "    <tr>\n",
       "      <th>1</th>\n",
       "      <td>1</td>\n",
       "      <td>2</td>\n",
       "      <td>Delhi Capitals</td>\n",
       "      <td>1000000</td>\n",
       "      <td>7</td>\n",
       "      <td>24.0</td>\n",
       "      <td>NaN</td>\n",
       "    </tr>\n",
       "    <tr>\n",
       "      <th>2</th>\n",
       "      <td>2</td>\n",
       "      <td>3</td>\n",
       "      <td>Gujrat Titans</td>\n",
       "      <td>1500000</td>\n",
       "      <td>8</td>\n",
       "      <td>23.0</td>\n",
       "      <td>NaN</td>\n",
       "    </tr>\n",
       "    <tr>\n",
       "      <th>3</th>\n",
       "      <td>3</td>\n",
       "      <td>4</td>\n",
       "      <td>Kolkata Knight Riders</td>\n",
       "      <td>4500000</td>\n",
       "      <td>8</td>\n",
       "      <td>25.0</td>\n",
       "      <td>NaN</td>\n",
       "    </tr>\n",
       "    <tr>\n",
       "      <th>4</th>\n",
       "      <td>4</td>\n",
       "      <td>5</td>\n",
       "      <td>Lucknow Super Gaints</td>\n",
       "      <td>0</td>\n",
       "      <td>7</td>\n",
       "      <td>28.0</td>\n",
       "      <td>NaN</td>\n",
       "    </tr>\n",
       "  </tbody>\n",
       "</table>\n",
       "</div>"
      ],
      "text/plain": [
       "   Unnamed: 0  SR. NO.                   TEAM  FUNDS REMAINING  \\\n",
       "0           0        1     Chennai Super King         29500000   \n",
       "1           1        2         Delhi Capitals          1000000   \n",
       "2           2        3          Gujrat Titans          1500000   \n",
       "3           3        4  Kolkata Knight Riders          4500000   \n",
       "4           4        5   Lucknow Super Gaints                0   \n",
       "\n",
       "   OVERSEAS PLAYERS   TOTAL PLAYERS  RATING  \n",
       "0                  8           25.0     NaN  \n",
       "1                  7           24.0     NaN  \n",
       "2                  8           23.0     NaN  \n",
       "3                  8           25.0     NaN  \n",
       "4                  7           28.0     NaN  "
      ]
     },
     "execution_count": 29,
     "metadata": {},
     "output_type": "execute_result"
    }
   ],
   "source": [
    "import pandas as pd\n",
    "import numpy as np\n",
    "\n",
    "auction = pd.read_csv(\"C:/Users/Arjun/06_JN/ipl auction stats__static.csv\" )\n",
    "auction.head()\n"
   ]
  },
  {
   "cell_type": "markdown",
   "metadata": {},
   "source": [
    "2. Choose the \"TOTAL PLAYERS\" for applying normalization"
   ]
  },
  {
   "cell_type": "code",
   "execution_count": 31,
   "metadata": {},
   "outputs": [
    {
     "data": {
      "text/plain": [
       "0      25.0\n",
       "1      24.0\n",
       "2      23.0\n",
       "3      25.0\n",
       "4      28.0\n",
       "5    5000.0\n",
       "6      25.0\n",
       "7      24.0\n",
       "8      22.0\n",
       "9      23.0\n",
       "Name: TOTAL PLAYERS, dtype: float64"
      ]
     },
     "execution_count": 31,
     "metadata": {},
     "output_type": "execute_result"
    }
   ],
   "source": [
    "auction[\"TOTAL PLAYERS\"]"
   ]
  },
  {
   "cell_type": "markdown",
   "metadata": {},
   "source": [
    "3. Apply Min-Max Normalization"
   ]
  },
  {
   "cell_type": "code",
   "execution_count": 33,
   "metadata": {},
   "outputs": [
    {
     "name": "stdout",
     "output_type": "stream",
     "text": [
      "0.0006026516673362796\n",
      "0.0004017677782241864\n",
      "0.0002008838891120932\n",
      "0.0006026516673362796\n",
      "0.0012053033346725592\n",
      "1.0\n",
      "0.0006026516673362796\n",
      "0.0004017677782241864\n",
      "0.0\n",
      "0.0002008838891120932\n"
     ]
    }
   ],
   "source": [
    "auction = pd.read_csv(\"C:/Users/Arjun/06_JN/ipl auction stats__static.csv\")\n",
    "max_ = max(auction[\"TOTAL PLAYERS\"])\n",
    "min_ = min(auction[\"TOTAL PLAYERS\"])\n",
    "#normalise the rating\n",
    "for i in auction[\"TOTAL PLAYERS\"]:\n",
    "    x=(i - min_)/(max_ - min_)\n",
    "    print(x)\n"
   ]
  },
  {
   "cell_type": "markdown",
   "metadata": {},
   "source": [
    "4. Z-Score Normalization"
   ]
  },
  {
   "cell_type": "code",
   "execution_count": 35,
   "metadata": {},
   "outputs": [
    {
     "name": "stdout",
     "output_type": "stream",
     "text": [
      "-5.575272309549612e-05\n",
      "-5.5864924188463516e-05\n",
      "-5.59771252814309e-05\n",
      "-5.575272309549612e-05\n",
      "-5.5416119816593956e-05\n",
      "0.0005024477144172695\n",
      "-5.575272309549612e-05\n",
      "-5.5864924188463516e-05\n",
      "-5.6089326374398296e-05\n",
      "-5.59771252814309e-05\n"
     ]
    }
   ],
   "source": [
    "mean_ = auction['TOTAL PLAYERS'].mean()\n",
    "std_dev = auction['FUNDS REMAINING'].std()\n",
    "for i in auction['TOTAL PLAYERS']:\n",
    "    z_score = (i - mean_)/std_dev\n",
    "    print(z_score)"
   ]
  },
  {
   "cell_type": "markdown",
   "metadata": {},
   "source": [
    "5. Apply Decimal Scaling"
   ]
  },
  {
   "cell_type": "code",
   "execution_count": 37,
   "metadata": {},
   "outputs": [
    {
     "name": "stdout",
     "output_type": "stream",
     "text": [
      "4\n",
      "0.0025\n",
      "0.0024\n",
      "0.0023\n",
      "0.0025\n",
      "0.0028\n",
      "0.5\n",
      "0.0025\n",
      "0.0024\n",
      "0.0022\n",
      "0.0023\n"
     ]
    }
   ],
   "source": [
    "import math\n",
    "max_ = auction['TOTAL PLAYERS'].max()\n",
    "j = math.ceil(math.log10(max_))\n",
    "print(j)\n",
    "for i in auction['TOTAL PLAYERS']:\n",
    "    Decimal_Scaling = i/(10**j)\n",
    "    print(Decimal_Scaling)"
   ]
  },
  {
   "cell_type": "markdown",
   "metadata": {},
   "source": [
    "6.1 introducing outlier"
   ]
  },
  {
   "cell_type": "code",
   "execution_count": 39,
   "metadata": {},
   "outputs": [
    {
     "data": {
      "text/html": [
       "<div>\n",
       "<style scoped>\n",
       "    .dataframe tbody tr th:only-of-type {\n",
       "        vertical-align: middle;\n",
       "    }\n",
       "\n",
       "    .dataframe tbody tr th {\n",
       "        vertical-align: top;\n",
       "    }\n",
       "\n",
       "    .dataframe thead th {\n",
       "        text-align: right;\n",
       "    }\n",
       "</style>\n",
       "<table border=\"1\" class=\"dataframe\">\n",
       "  <thead>\n",
       "    <tr style=\"text-align: right;\">\n",
       "      <th></th>\n",
       "      <th>Unnamed: 0</th>\n",
       "      <th>SR. NO.</th>\n",
       "      <th>TEAM</th>\n",
       "      <th>FUNDS REMAINING</th>\n",
       "      <th>OVERSEAS PLAYERS</th>\n",
       "      <th>TOTAL PLAYERS</th>\n",
       "      <th>RATING</th>\n",
       "    </tr>\n",
       "  </thead>\n",
       "  <tbody>\n",
       "    <tr>\n",
       "      <th>0</th>\n",
       "      <td>0</td>\n",
       "      <td>1</td>\n",
       "      <td>Chennai Super King</td>\n",
       "      <td>29500000</td>\n",
       "      <td>8</td>\n",
       "      <td>25.0</td>\n",
       "      <td>NaN</td>\n",
       "    </tr>\n",
       "    <tr>\n",
       "      <th>1</th>\n",
       "      <td>1</td>\n",
       "      <td>2</td>\n",
       "      <td>Delhi Capitals</td>\n",
       "      <td>1000000</td>\n",
       "      <td>7</td>\n",
       "      <td>24.0</td>\n",
       "      <td>NaN</td>\n",
       "    </tr>\n",
       "    <tr>\n",
       "      <th>2</th>\n",
       "      <td>2</td>\n",
       "      <td>3</td>\n",
       "      <td>Gujrat Titans</td>\n",
       "      <td>1500000</td>\n",
       "      <td>8</td>\n",
       "      <td>23.0</td>\n",
       "      <td>NaN</td>\n",
       "    </tr>\n",
       "    <tr>\n",
       "      <th>3</th>\n",
       "      <td>3</td>\n",
       "      <td>4</td>\n",
       "      <td>Kolkata Knight Riders</td>\n",
       "      <td>4500000</td>\n",
       "      <td>8</td>\n",
       "      <td>25.0</td>\n",
       "      <td>NaN</td>\n",
       "    </tr>\n",
       "    <tr>\n",
       "      <th>4</th>\n",
       "      <td>4</td>\n",
       "      <td>5</td>\n",
       "      <td>Lucknow Super Gaints</td>\n",
       "      <td>0</td>\n",
       "      <td>7</td>\n",
       "      <td>28.0</td>\n",
       "      <td>NaN</td>\n",
       "    </tr>\n",
       "    <tr>\n",
       "      <th>5</th>\n",
       "      <td>5</td>\n",
       "      <td>6</td>\n",
       "      <td>Mumbai Indians</td>\n",
       "      <td>1000000</td>\n",
       "      <td>8</td>\n",
       "      <td>5000.0</td>\n",
       "      <td>5000.0</td>\n",
       "    </tr>\n",
       "    <tr>\n",
       "      <th>6</th>\n",
       "      <td>6</td>\n",
       "      <td>7</td>\n",
       "      <td>Punjab Kings</td>\n",
       "      <td>3450000</td>\n",
       "      <td>7</td>\n",
       "      <td>25.0</td>\n",
       "      <td>NaN</td>\n",
       "    </tr>\n",
       "    <tr>\n",
       "      <th>7</th>\n",
       "      <td>7</td>\n",
       "      <td>8</td>\n",
       "      <td>Rajasthan Royals</td>\n",
       "      <td>9500000</td>\n",
       "      <td>8</td>\n",
       "      <td>24.0</td>\n",
       "      <td>NaN</td>\n",
       "    </tr>\n",
       "    <tr>\n",
       "      <th>8</th>\n",
       "      <td>8</td>\n",
       "      <td>9</td>\n",
       "      <td>Royal Challengers Bangloro</td>\n",
       "      <td>1550000</td>\n",
       "      <td>8</td>\n",
       "      <td>22.0</td>\n",
       "      <td>NaN</td>\n",
       "    </tr>\n",
       "    <tr>\n",
       "      <th>9</th>\n",
       "      <td>9</td>\n",
       "      <td>10</td>\n",
       "      <td>Sunrisers Hydrabad</td>\n",
       "      <td>10000000</td>\n",
       "      <td>8</td>\n",
       "      <td>23.0</td>\n",
       "      <td>NaN</td>\n",
       "    </tr>\n",
       "  </tbody>\n",
       "</table>\n",
       "</div>"
      ],
      "text/plain": [
       "   Unnamed: 0  SR. NO.                        TEAM  FUNDS REMAINING  \\\n",
       "0           0        1          Chennai Super King         29500000   \n",
       "1           1        2              Delhi Capitals          1000000   \n",
       "2           2        3               Gujrat Titans          1500000   \n",
       "3           3        4       Kolkata Knight Riders          4500000   \n",
       "4           4        5        Lucknow Super Gaints                0   \n",
       "5           5        6              Mumbai Indians          1000000   \n",
       "6           6        7                Punjab Kings          3450000   \n",
       "7           7        8            Rajasthan Royals          9500000   \n",
       "8           8        9  Royal Challengers Bangloro          1550000   \n",
       "9           9       10          Sunrisers Hydrabad         10000000   \n",
       "\n",
       "   OVERSEAS PLAYERS   TOTAL PLAYERS  RATING  \n",
       "0                  8           25.0     NaN  \n",
       "1                  7           24.0     NaN  \n",
       "2                  8           23.0     NaN  \n",
       "3                  8           25.0     NaN  \n",
       "4                  7           28.0     NaN  \n",
       "5                  8         5000.0  5000.0  \n",
       "6                  7           25.0     NaN  \n",
       "7                  8           24.0     NaN  \n",
       "8                  8           22.0     NaN  \n",
       "9                  8           23.0     NaN  "
      ]
     },
     "execution_count": 39,
     "metadata": {},
     "output_type": "execute_result"
    }
   ],
   "source": [
    "auction.loc[5,'TOTAL PLAYERS']= 5000.0\n",
    "auction.to_csv(\"C:/Users/Arjun/06_JN/ipl auction stats__static.csv\", \n",
    "index=False)\n",
    "auction"
   ]
  },
  {
   "cell_type": "markdown",
   "metadata": {},
   "source": [
    "6.2 Introduce an outlier in your dataset and Apply Robust Scaling"
   ]
  },
  {
   "cell_type": "code",
   "execution_count": 41,
   "metadata": {},
   "outputs": [
    {
     "name": "stdout",
     "output_type": "stream",
     "text": [
      "11.0\n",
      "10.0\n",
      "9.0\n",
      "11.0\n",
      "14.0\n",
      "4986.0\n",
      "11.0\n",
      "10.0\n",
      "8.0\n",
      "9.0\n"
     ]
    }
   ],
   "source": [
    "median1 = auction['TOTAL PLAYERS'].median()\n",
    "Q1 = auction['TOTAL PLAYERS'].quantile(0.25)\n",
    "Q3 = auction['TOTAL PLAYERS'].quantile(0.75)\n",
    "for i in auction['TOTAL PLAYERS']:\n",
    "    robust_value = i - median1/(Q3-Q1)\n",
    "    print(robust_value)"
   ]
  }
 ],
 "metadata": {
  "kernelspec": {
   "display_name": "Python [conda env:base] *",
   "language": "python",
   "name": "conda-base-py"
  },
  "language_info": {
   "codemirror_mode": {
    "name": "ipython",
    "version": 3
   },
   "file_extension": ".py",
   "mimetype": "text/x-python",
   "name": "python",
   "nbconvert_exporter": "python",
   "pygments_lexer": "ipython3",
   "version": "3.12.7"
  }
 },
 "nbformat": 4,
 "nbformat_minor": 4
}
